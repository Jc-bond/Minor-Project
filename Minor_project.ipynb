{
 "cells": [
  {
   "cell_type": "code",
   "execution_count": 274,
   "id": "c1ec38e6",
   "metadata": {},
   "outputs": [],
   "source": [
    "import pandas as pd\n",
    "import numpy as np\n",
    "from sklearn.model_selection import train_test_split"
   ]
  },
  {
   "cell_type": "code",
   "execution_count": 275,
   "id": "df837be6",
   "metadata": {},
   "outputs": [],
   "source": [
    "df = pd.read_excel('data.xlsx')"
   ]
  },
  {
   "cell_type": "code",
   "execution_count": 276,
   "id": "b8249108",
   "metadata": {},
   "outputs": [
    {
     "data": {
      "text/html": [
       "<div>\n",
       "<style scoped>\n",
       "    .dataframe tbody tr th:only-of-type {\n",
       "        vertical-align: middle;\n",
       "    }\n",
       "\n",
       "    .dataframe tbody tr th {\n",
       "        vertical-align: top;\n",
       "    }\n",
       "\n",
       "    .dataframe thead th {\n",
       "        text-align: right;\n",
       "    }\n",
       "</style>\n",
       "<table border=\"1\" class=\"dataframe\">\n",
       "  <thead>\n",
       "    <tr style=\"text-align: right;\">\n",
       "      <th></th>\n",
       "      <th>No.</th>\n",
       "      <th>composition</th>\n",
       "      <th>ICSD #</th>\n",
       "      <th>Element</th>\n",
       "      <th>magn.</th>\n",
       "      <th>Ev</th>\n",
       "      <th>X1</th>\n",
       "      <th>X2</th>\n",
       "      <th>X3</th>\n",
       "      <th>X4</th>\n",
       "      <th>X5</th>\n",
       "      <th>X6</th>\n",
       "    </tr>\n",
       "  </thead>\n",
       "  <tbody>\n",
       "    <tr>\n",
       "      <th>0</th>\n",
       "      <td>51</td>\n",
       "      <td>Ag2O2</td>\n",
       "      <td>202543</td>\n",
       "      <td>2</td>\n",
       "      <td>non</td>\n",
       "      <td>2.4</td>\n",
       "      <td>1.5</td>\n",
       "      <td>4</td>\n",
       "      <td>110</td>\n",
       "      <td>2</td>\n",
       "      <td>0.500000</td>\n",
       "      <td>0.145455</td>\n",
       "    </tr>\n",
       "    <tr>\n",
       "      <th>1</th>\n",
       "      <td>127</td>\n",
       "      <td>Al2O3</td>\n",
       "      <td>161062</td>\n",
       "      <td>2</td>\n",
       "      <td>non</td>\n",
       "      <td>6.5</td>\n",
       "      <td>1.8</td>\n",
       "      <td>5</td>\n",
       "      <td>50</td>\n",
       "      <td>3</td>\n",
       "      <td>0.600000</td>\n",
       "      <td>0.480000</td>\n",
       "    </tr>\n",
       "    <tr>\n",
       "      <th>2</th>\n",
       "      <td>128</td>\n",
       "      <td>Al2O3</td>\n",
       "      <td>82504</td>\n",
       "      <td>2</td>\n",
       "      <td>non</td>\n",
       "      <td>6.6</td>\n",
       "      <td>1.8</td>\n",
       "      <td>5</td>\n",
       "      <td>50</td>\n",
       "      <td>3</td>\n",
       "      <td>0.600000</td>\n",
       "      <td>0.480000</td>\n",
       "    </tr>\n",
       "    <tr>\n",
       "      <th>3</th>\n",
       "      <td>129</td>\n",
       "      <td>Al2O3</td>\n",
       "      <td>161061</td>\n",
       "      <td>2</td>\n",
       "      <td>non</td>\n",
       "      <td>6.6</td>\n",
       "      <td>1.8</td>\n",
       "      <td>5</td>\n",
       "      <td>50</td>\n",
       "      <td>3</td>\n",
       "      <td>0.600000</td>\n",
       "      <td>0.480000</td>\n",
       "    </tr>\n",
       "    <tr>\n",
       "      <th>4</th>\n",
       "      <td>130</td>\n",
       "      <td>Al2O3</td>\n",
       "      <td>161790</td>\n",
       "      <td>2</td>\n",
       "      <td>non</td>\n",
       "      <td>6.7</td>\n",
       "      <td>1.8</td>\n",
       "      <td>5</td>\n",
       "      <td>50</td>\n",
       "      <td>3</td>\n",
       "      <td>0.600000</td>\n",
       "      <td>0.480000</td>\n",
       "    </tr>\n",
       "    <tr>\n",
       "      <th>...</th>\n",
       "      <td>...</td>\n",
       "      <td>...</td>\n",
       "      <td>...</td>\n",
       "      <td>...</td>\n",
       "      <td>...</td>\n",
       "      <td>...</td>\n",
       "      <td>...</td>\n",
       "      <td>...</td>\n",
       "      <td>...</td>\n",
       "      <td>...</td>\n",
       "      <td>...</td>\n",
       "      <td>...</td>\n",
       "    </tr>\n",
       "    <tr>\n",
       "      <th>95</th>\n",
       "      <td>1447</td>\n",
       "      <td>O2Pt1</td>\n",
       "      <td>30443</td>\n",
       "      <td>2</td>\n",
       "      <td>AFM</td>\n",
       "      <td>2.7</td>\n",
       "      <td>1.2</td>\n",
       "      <td>3</td>\n",
       "      <td>94</td>\n",
       "      <td>2</td>\n",
       "      <td>0.666667</td>\n",
       "      <td>0.170213</td>\n",
       "    </tr>\n",
       "    <tr>\n",
       "      <th>96</th>\n",
       "      <td>1448</td>\n",
       "      <td>O2Pt1</td>\n",
       "      <td>76431</td>\n",
       "      <td>2</td>\n",
       "      <td>FM</td>\n",
       "      <td>2.9</td>\n",
       "      <td>1.2</td>\n",
       "      <td>3</td>\n",
       "      <td>94</td>\n",
       "      <td>2</td>\n",
       "      <td>0.666667</td>\n",
       "      <td>0.170213</td>\n",
       "    </tr>\n",
       "    <tr>\n",
       "      <th>97</th>\n",
       "      <td>1449</td>\n",
       "      <td>O2Pt1</td>\n",
       "      <td>24923</td>\n",
       "      <td>2</td>\n",
       "      <td>AFM</td>\n",
       "      <td>3.0</td>\n",
       "      <td>1.2</td>\n",
       "      <td>3</td>\n",
       "      <td>94</td>\n",
       "      <td>2</td>\n",
       "      <td>0.666667</td>\n",
       "      <td>0.170213</td>\n",
       "    </tr>\n",
       "    <tr>\n",
       "      <th>98</th>\n",
       "      <td>1456</td>\n",
       "      <td>O2Si1</td>\n",
       "      <td>170519</td>\n",
       "      <td>2</td>\n",
       "      <td>non</td>\n",
       "      <td>4.5</td>\n",
       "      <td>1.5</td>\n",
       "      <td>3</td>\n",
       "      <td>30</td>\n",
       "      <td>2</td>\n",
       "      <td>0.666667</td>\n",
       "      <td>0.533333</td>\n",
       "    </tr>\n",
       "    <tr>\n",
       "      <th>99</th>\n",
       "      <td>1457</td>\n",
       "      <td>O2Si1</td>\n",
       "      <td>170550</td>\n",
       "      <td>2</td>\n",
       "      <td>non</td>\n",
       "      <td>5.2</td>\n",
       "      <td>1.5</td>\n",
       "      <td>3</td>\n",
       "      <td>30</td>\n",
       "      <td>2</td>\n",
       "      <td>0.666667</td>\n",
       "      <td>0.533333</td>\n",
       "    </tr>\n",
       "  </tbody>\n",
       "</table>\n",
       "<p>100 rows × 12 columns</p>\n",
       "</div>"
      ],
      "text/plain": [
       "     No. composition  ICSD #  Element magn.   Ev   X1  X2   X3  X4        X5  \\\n",
       "0     51       Ag2O2  202543        2   non  2.4  1.5   4  110   2  0.500000   \n",
       "1    127       Al2O3  161062        2   non  6.5  1.8   5   50   3  0.600000   \n",
       "2    128       Al2O3   82504        2   non  6.6  1.8   5   50   3  0.600000   \n",
       "3    129       Al2O3  161061        2   non  6.6  1.8   5   50   3  0.600000   \n",
       "4    130       Al2O3  161790        2   non  6.7  1.8   5   50   3  0.600000   \n",
       "..   ...         ...     ...      ...   ...  ...  ...  ..  ...  ..       ...   \n",
       "95  1447       O2Pt1   30443        2   AFM  2.7  1.2   3   94   2  0.666667   \n",
       "96  1448       O2Pt1   76431        2    FM  2.9  1.2   3   94   2  0.666667   \n",
       "97  1449       O2Pt1   24923        2   AFM  3.0  1.2   3   94   2  0.666667   \n",
       "98  1456       O2Si1  170519        2   non  4.5  1.5   3   30   2  0.666667   \n",
       "99  1457       O2Si1  170550        2   non  5.2  1.5   3   30   2  0.666667   \n",
       "\n",
       "          X6  \n",
       "0   0.145455  \n",
       "1   0.480000  \n",
       "2   0.480000  \n",
       "3   0.480000  \n",
       "4   0.480000  \n",
       "..       ...  \n",
       "95  0.170213  \n",
       "96  0.170213  \n",
       "97  0.170213  \n",
       "98  0.533333  \n",
       "99  0.533333  \n",
       "\n",
       "[100 rows x 12 columns]"
      ]
     },
     "execution_count": 276,
     "metadata": {},
     "output_type": "execute_result"
    }
   ],
   "source": [
    "df.head(100)"
   ]
  },
  {
   "cell_type": "code",
   "execution_count": 277,
   "id": "8e0b4e8b",
   "metadata": {},
   "outputs": [
    {
     "data": {
      "text/html": [
       "<div>\n",
       "<style scoped>\n",
       "    .dataframe tbody tr th:only-of-type {\n",
       "        vertical-align: middle;\n",
       "    }\n",
       "\n",
       "    .dataframe tbody tr th {\n",
       "        vertical-align: top;\n",
       "    }\n",
       "\n",
       "    .dataframe thead th {\n",
       "        text-align: right;\n",
       "    }\n",
       "</style>\n",
       "<table border=\"1\" class=\"dataframe\">\n",
       "  <thead>\n",
       "    <tr style=\"text-align: right;\">\n",
       "      <th></th>\n",
       "      <th>No.</th>\n",
       "      <th>ICSD #</th>\n",
       "      <th>Element</th>\n",
       "      <th>Ev</th>\n",
       "      <th>X1</th>\n",
       "      <th>X2</th>\n",
       "      <th>X3</th>\n",
       "      <th>X4</th>\n",
       "      <th>X5</th>\n",
       "      <th>X6</th>\n",
       "    </tr>\n",
       "  </thead>\n",
       "  <tbody>\n",
       "    <tr>\n",
       "      <th>count</th>\n",
       "      <td>1750.000000</td>\n",
       "      <td>1750.000000</td>\n",
       "      <td>1750.000000</td>\n",
       "      <td>1750.000000</td>\n",
       "      <td>1750.000000</td>\n",
       "      <td>1750.000000</td>\n",
       "      <td>1750.000000</td>\n",
       "      <td>1750.000000</td>\n",
       "      <td>1750.000000</td>\n",
       "      <td>1750.000000</td>\n",
       "    </tr>\n",
       "    <tr>\n",
       "      <th>mean</th>\n",
       "      <td>875.500000</td>\n",
       "      <td>115104.005143</td>\n",
       "      <td>3.128571</td>\n",
       "      <td>4.931371</td>\n",
       "      <td>1.647771</td>\n",
       "      <td>31.868571</td>\n",
       "      <td>176.077143</td>\n",
       "      <td>6.231429</td>\n",
       "      <td>0.446981</td>\n",
       "      <td>0.304382</td>\n",
       "    </tr>\n",
       "    <tr>\n",
       "      <th>std</th>\n",
       "      <td>505.325802</td>\n",
       "      <td>109984.787141</td>\n",
       "      <td>0.672107</td>\n",
       "      <td>0.989524</td>\n",
       "      <td>0.234266</td>\n",
       "      <td>41.484019</td>\n",
       "      <td>156.687028</td>\n",
       "      <td>6.042033</td>\n",
       "      <td>0.225982</td>\n",
       "      <td>0.110418</td>\n",
       "    </tr>\n",
       "    <tr>\n",
       "      <th>min</th>\n",
       "      <td>1.000000</td>\n",
       "      <td>91.000000</td>\n",
       "      <td>2.000000</td>\n",
       "      <td>1.500000</td>\n",
       "      <td>0.700000</td>\n",
       "      <td>2.000000</td>\n",
       "      <td>20.000000</td>\n",
       "      <td>1.000000</td>\n",
       "      <td>0.012346</td>\n",
       "      <td>0.023881</td>\n",
       "    </tr>\n",
       "    <tr>\n",
       "      <th>25%</th>\n",
       "      <td>438.250000</td>\n",
       "      <td>33771.750000</td>\n",
       "      <td>3.000000</td>\n",
       "      <td>4.200000</td>\n",
       "      <td>1.500000</td>\n",
       "      <td>5.000000</td>\n",
       "      <td>86.000000</td>\n",
       "      <td>3.000000</td>\n",
       "      <td>0.203912</td>\n",
       "      <td>0.225352</td>\n",
       "    </tr>\n",
       "    <tr>\n",
       "      <th>50%</th>\n",
       "      <td>875.500000</td>\n",
       "      <td>80045.500000</td>\n",
       "      <td>3.000000</td>\n",
       "      <td>5.000000</td>\n",
       "      <td>1.600000</td>\n",
       "      <td>9.000000</td>\n",
       "      <td>134.000000</td>\n",
       "      <td>4.000000</td>\n",
       "      <td>0.571429</td>\n",
       "      <td>0.295567</td>\n",
       "    </tr>\n",
       "    <tr>\n",
       "      <th>75%</th>\n",
       "      <td>1312.750000</td>\n",
       "      <td>167743.750000</td>\n",
       "      <td>4.000000</td>\n",
       "      <td>5.700000</td>\n",
       "      <td>1.800000</td>\n",
       "      <td>55.000000</td>\n",
       "      <td>222.000000</td>\n",
       "      <td>8.000000</td>\n",
       "      <td>0.615385</td>\n",
       "      <td>0.375000</td>\n",
       "    </tr>\n",
       "    <tr>\n",
       "      <th>max</th>\n",
       "      <td>1750.000000</td>\n",
       "      <td>657748.000000</td>\n",
       "      <td>5.000000</td>\n",
       "      <td>7.300000</td>\n",
       "      <td>2.600000</td>\n",
       "      <td>211.000000</td>\n",
       "      <td>2584.000000</td>\n",
       "      <td>96.000000</td>\n",
       "      <td>0.904762</td>\n",
       "      <td>0.703704</td>\n",
       "    </tr>\n",
       "  </tbody>\n",
       "</table>\n",
       "</div>"
      ],
      "text/plain": [
       "               No.         ICSD #      Element           Ev           X1  \\\n",
       "count  1750.000000    1750.000000  1750.000000  1750.000000  1750.000000   \n",
       "mean    875.500000  115104.005143     3.128571     4.931371     1.647771   \n",
       "std     505.325802  109984.787141     0.672107     0.989524     0.234266   \n",
       "min       1.000000      91.000000     2.000000     1.500000     0.700000   \n",
       "25%     438.250000   33771.750000     3.000000     4.200000     1.500000   \n",
       "50%     875.500000   80045.500000     3.000000     5.000000     1.600000   \n",
       "75%    1312.750000  167743.750000     4.000000     5.700000     1.800000   \n",
       "max    1750.000000  657748.000000     5.000000     7.300000     2.600000   \n",
       "\n",
       "                X2           X3           X4           X5           X6  \n",
       "count  1750.000000  1750.000000  1750.000000  1750.000000  1750.000000  \n",
       "mean     31.868571   176.077143     6.231429     0.446981     0.304382  \n",
       "std      41.484019   156.687028     6.042033     0.225982     0.110418  \n",
       "min       2.000000    20.000000     1.000000     0.012346     0.023881  \n",
       "25%       5.000000    86.000000     3.000000     0.203912     0.225352  \n",
       "50%       9.000000   134.000000     4.000000     0.571429     0.295567  \n",
       "75%      55.000000   222.000000     8.000000     0.615385     0.375000  \n",
       "max     211.000000  2584.000000    96.000000     0.904762     0.703704  "
      ]
     },
     "execution_count": 277,
     "metadata": {},
     "output_type": "execute_result"
    }
   ],
   "source": [
    "df.describe()"
   ]
  },
  {
   "cell_type": "code",
   "execution_count": 278,
   "id": "a7cc3c84",
   "metadata": {},
   "outputs": [],
   "source": [
    "training_data, testing_data = train_test_split(df, test_size=0.2, random_state=25)"
   ]
  },
  {
   "cell_type": "code",
   "execution_count": 279,
   "id": "439292a7",
   "metadata": {},
   "outputs": [
    {
     "name": "stdout",
     "output_type": "stream",
     "text": [
      "No. of training examples: 1400\n",
      "No. of testing examples: 350\n"
     ]
    }
   ],
   "source": [
    "print(f\"No. of training examples: {training_data.shape[0]}\")\n",
    "print(f\"No. of testing examples: {testing_data.shape[0]}\")"
   ]
  },
  {
   "cell_type": "code",
   "execution_count": 280,
   "id": "c0410c6a",
   "metadata": {},
   "outputs": [
    {
     "name": "stdout",
     "output_type": "stream",
     "text": [
      "No.\n",
      "composition\n",
      "ICSD #\n",
      "Element\n",
      "magn.\n",
      "Ev\n",
      "X1\n",
      "X2\n",
      "X3\n",
      "X4\n",
      "X5\n",
      "X6\n"
     ]
    }
   ],
   "source": [
    "for col in df.columns:\n",
    "    print(col)"
   ]
  },
  {
   "cell_type": "code",
   "execution_count": 281,
   "id": "446c0fb3",
   "metadata": {},
   "outputs": [
    {
     "data": {
      "text/html": [
       "<div>\n",
       "<style scoped>\n",
       "    .dataframe tbody tr th:only-of-type {\n",
       "        vertical-align: middle;\n",
       "    }\n",
       "\n",
       "    .dataframe tbody tr th {\n",
       "        vertical-align: top;\n",
       "    }\n",
       "\n",
       "    .dataframe thead th {\n",
       "        text-align: right;\n",
       "    }\n",
       "</style>\n",
       "<table border=\"1\" class=\"dataframe\">\n",
       "  <thead>\n",
       "    <tr style=\"text-align: right;\">\n",
       "      <th></th>\n",
       "      <th>No.</th>\n",
       "      <th>composition</th>\n",
       "      <th>ICSD #</th>\n",
       "      <th>Element</th>\n",
       "      <th>magn.</th>\n",
       "      <th>Ev</th>\n",
       "      <th>X1</th>\n",
       "      <th>X2</th>\n",
       "      <th>X3</th>\n",
       "      <th>X4</th>\n",
       "      <th>X5</th>\n",
       "      <th>X6</th>\n",
       "    </tr>\n",
       "  </thead>\n",
       "  <tbody>\n",
       "    <tr>\n",
       "      <th>1537</th>\n",
       "      <td>823</td>\n",
       "      <td>Fe1Ge2O7Y1</td>\n",
       "      <td>95935</td>\n",
       "      <td>4</td>\n",
       "      <td>AFM</td>\n",
       "      <td>4.4</td>\n",
       "      <td>1.4</td>\n",
       "      <td>105</td>\n",
       "      <td>185</td>\n",
       "      <td>7</td>\n",
       "      <td>0.066667</td>\n",
       "      <td>0.302703</td>\n",
       "    </tr>\n",
       "    <tr>\n",
       "      <th>1149</th>\n",
       "      <td>1598</td>\n",
       "      <td>O3Pd1Sr2</td>\n",
       "      <td>16536</td>\n",
       "      <td>3</td>\n",
       "      <td>FM</td>\n",
       "      <td>3.4</td>\n",
       "      <td>1.2</td>\n",
       "      <td>6</td>\n",
       "      <td>146</td>\n",
       "      <td>3</td>\n",
       "      <td>0.500000</td>\n",
       "      <td>0.164384</td>\n",
       "    </tr>\n",
       "    <tr>\n",
       "      <th>1468</th>\n",
       "      <td>519</td>\n",
       "      <td>Ca3Co1O6Rh1</td>\n",
       "      <td>50809</td>\n",
       "      <td>4</td>\n",
       "      <td>AFM</td>\n",
       "      <td>3.5</td>\n",
       "      <td>1.3</td>\n",
       "      <td>100</td>\n",
       "      <td>180</td>\n",
       "      <td>6</td>\n",
       "      <td>0.060000</td>\n",
       "      <td>0.266667</td>\n",
       "    </tr>\n",
       "    <tr>\n",
       "      <th>553</th>\n",
       "      <td>673</td>\n",
       "      <td>Cr1Na2O4</td>\n",
       "      <td>159511</td>\n",
       "      <td>3</td>\n",
       "      <td>AFM</td>\n",
       "      <td>4.6</td>\n",
       "      <td>1.8</td>\n",
       "      <td>7</td>\n",
       "      <td>78</td>\n",
       "      <td>4</td>\n",
       "      <td>0.571429</td>\n",
       "      <td>0.410256</td>\n",
       "    </tr>\n",
       "    <tr>\n",
       "      <th>1365</th>\n",
       "      <td>251</td>\n",
       "      <td>Ba1Mn2O8V2</td>\n",
       "      <td>72295</td>\n",
       "      <td>4</td>\n",
       "      <td>AFM</td>\n",
       "      <td>5.3</td>\n",
       "      <td>1.8</td>\n",
       "      <td>112</td>\n",
       "      <td>216</td>\n",
       "      <td>8</td>\n",
       "      <td>0.071429</td>\n",
       "      <td>0.296296</td>\n",
       "    </tr>\n",
       "  </tbody>\n",
       "</table>\n",
       "</div>"
      ],
      "text/plain": [
       "       No.  composition  ICSD #  Element magn.   Ev   X1   X2   X3  X4  \\\n",
       "1537   823   Fe1Ge2O7Y1   95935        4   AFM  4.4  1.4  105  185   7   \n",
       "1149  1598     O3Pd1Sr2   16536        3    FM  3.4  1.2    6  146   3   \n",
       "1468   519  Ca3Co1O6Rh1   50809        4   AFM  3.5  1.3  100  180   6   \n",
       "553    673     Cr1Na2O4  159511        3   AFM  4.6  1.8    7   78   4   \n",
       "1365   251   Ba1Mn2O8V2   72295        4   AFM  5.3  1.8  112  216   8   \n",
       "\n",
       "            X5        X6  \n",
       "1537  0.066667  0.302703  \n",
       "1149  0.500000  0.164384  \n",
       "1468  0.060000  0.266667  \n",
       "553   0.571429  0.410256  \n",
       "1365  0.071429  0.296296  "
      ]
     },
     "execution_count": 281,
     "metadata": {},
     "output_type": "execute_result"
    }
   ],
   "source": [
    "training_data.head()"
   ]
  },
  {
   "cell_type": "code",
   "execution_count": null,
   "id": "c0e9c807",
   "metadata": {},
   "outputs": [],
   "source": []
  },
  {
   "cell_type": "raw",
   "id": "60711e08",
   "metadata": {},
   "source": []
  },
  {
   "cell_type": "code",
   "execution_count": null,
   "id": "cd32e1a0",
   "metadata": {},
   "outputs": [],
   "source": []
  },
  {
   "cell_type": "code",
   "execution_count": 282,
   "id": "c90d928b",
   "metadata": {},
   "outputs": [],
   "source": [
    "ds = df"
   ]
  },
  {
   "cell_type": "markdown",
   "id": "0dc6cda2",
   "metadata": {},
   "source": [
    "## Stepwise regression"
   ]
  },
  {
   "cell_type": "code",
   "execution_count": 283,
   "id": "60355b0c",
   "metadata": {},
   "outputs": [],
   "source": [
    "x_columns = [\"X1\",\"X2\",\"X3\",\"X4\",\"X5\",\"X6\"]\n",
    "y = ds[\"Ev\"]"
   ]
  },
  {
   "cell_type": "code",
   "execution_count": 284,
   "id": "c6558e71",
   "metadata": {},
   "outputs": [],
   "source": [
    "import statsmodels.api as sm"
   ]
  },
  {
   "cell_type": "code",
   "execution_count": 285,
   "id": "89e9bdc4",
   "metadata": {},
   "outputs": [
    {
     "name": "stdout",
     "output_type": "stream",
     "text": [
      "Requirement already satisfied: statsmodels in c:\\users\\chugh\\anaconda3\\lib\\site-packages (0.12.2)Note: you may need to restart the kernel to use updated packages.\n"
     ]
    },
    {
     "name": "stderr",
     "output_type": "stream",
     "text": [
      "\n",
      "[notice] A new release of pip available: 22.2.2 -> 22.3.1\n",
      "[notice] To update, run: python.exe -m pip install --upgrade pip\n"
     ]
    },
    {
     "name": "stdout",
     "output_type": "stream",
     "text": [
      "\n",
      "Requirement already satisfied: numpy>=1.15 in c:\\users\\chugh\\anaconda3\\lib\\site-packages (from statsmodels) (1.20.1)\n",
      "Requirement already satisfied: scipy>=1.1 in c:\\users\\chugh\\anaconda3\\lib\\site-packages (from statsmodels) (1.6.2)\n",
      "Requirement already satisfied: pandas>=0.21 in c:\\users\\chugh\\anaconda3\\lib\\site-packages (from statsmodels) (1.2.4)\n",
      "Requirement already satisfied: patsy>=0.5 in c:\\users\\chugh\\anaconda3\\lib\\site-packages (from statsmodels) (0.5.1)\n",
      "Requirement already satisfied: python-dateutil>=2.7.3 in c:\\users\\chugh\\anaconda3\\lib\\site-packages (from pandas>=0.21->statsmodels) (2.8.1)\n",
      "Requirement already satisfied: pytz>=2017.3 in c:\\users\\chugh\\anaconda3\\lib\\site-packages (from pandas>=0.21->statsmodels) (2021.1)\n",
      "Requirement already satisfied: six in c:\\users\\chugh\\anaconda3\\lib\\site-packages (from patsy>=0.5->statsmodels) (1.15.0)\n"
     ]
    }
   ],
   "source": [
    "pip install statsmodels"
   ]
  },
  {
   "cell_type": "code",
   "execution_count": 286,
   "id": "51e6c31a",
   "metadata": {},
   "outputs": [
    {
     "name": "stdout",
     "output_type": "stream",
     "text": [
      "                                 OLS Regression Results                                \n",
      "=======================================================================================\n",
      "Dep. Variable:                     Ev   R-squared (uncentered):                   0.984\n",
      "Model:                            OLS   Adj. R-squared (uncentered):              0.984\n",
      "Method:                 Least Squares   F-statistic:                          1.745e+04\n",
      "Date:                Sun, 18 Dec 2022   Prob (F-statistic):                        0.00\n",
      "Time:                        19:08:48   Log-Likelihood:                         -1712.4\n",
      "No. Observations:                1750   AIC:                                      3437.\n",
      "Df Residuals:                    1744   BIC:                                      3470.\n",
      "Df Model:                           6                                                  \n",
      "Covariance Type:            nonrobust                                                  \n",
      "==============================================================================\n",
      "                 coef    std err          t      P>|t|      [0.025      0.975]\n",
      "------------------------------------------------------------------------------\n",
      "X1             1.8732      0.042     44.774      0.000       1.791       1.955\n",
      "X2             0.0040      0.001      4.851      0.000       0.002       0.006\n",
      "X3          1.821e-05      0.000      0.072      0.943      -0.000       0.001\n",
      "X4            -0.0035      0.006     -0.574      0.566      -0.015       0.008\n",
      "X5             0.2705      0.142      1.906      0.057      -0.008       0.549\n",
      "X6             5.3260      0.186     28.686      0.000       4.962       5.690\n",
      "==============================================================================\n",
      "Omnibus:                       23.345   Durbin-Watson:                   0.802\n",
      "Prob(Omnibus):                  0.000   Jarque-Bera (JB):               40.414\n",
      "Skew:                           0.017   Prob(JB):                     1.68e-09\n",
      "Kurtosis:                       3.744   Cond. No.                     3.21e+03\n",
      "==============================================================================\n",
      "\n",
      "Notes:\n",
      "[1] R² is computed without centering (uncentered) since the model does not contain a constant.\n",
      "[2] Standard Errors assume that the covariance matrix of the errors is correctly specified.\n",
      "[3] The condition number is large, 3.21e+03. This might indicate that there are\n",
      "strong multicollinearity or other numerical problems.\n"
     ]
    }
   ],
   "source": [
    "def get_stats():\n",
    "    x = ds[x_columns]\n",
    "    results = sm.OLS(y,x).fit()\n",
    "    print(results.summary())\n",
    "get_stats()"
   ]
  },
  {
   "cell_type": "code",
   "execution_count": 287,
   "id": "eeec8893",
   "metadata": {},
   "outputs": [
    {
     "name": "stdout",
     "output_type": "stream",
     "text": [
      "                                 OLS Regression Results                                \n",
      "=======================================================================================\n",
      "Dep. Variable:                     Ev   R-squared (uncentered):                   0.984\n",
      "Model:                            OLS   Adj. R-squared (uncentered):              0.984\n",
      "Method:                 Least Squares   F-statistic:                          2.096e+04\n",
      "Date:                Sun, 18 Dec 2022   Prob (F-statistic):                        0.00\n",
      "Time:                        19:08:48   Log-Likelihood:                         -1712.4\n",
      "No. Observations:                1750   AIC:                                      3435.\n",
      "Df Residuals:                    1745   BIC:                                      3462.\n",
      "Df Model:                           5                                                  \n",
      "Covariance Type:            nonrobust                                                  \n",
      "==============================================================================\n",
      "                 coef    std err          t      P>|t|      [0.025      0.975]\n",
      "------------------------------------------------------------------------------\n",
      "X1             1.8738      0.041     45.478      0.000       1.793       1.955\n",
      "X2             0.0040      0.001      5.433      0.000       0.003       0.005\n",
      "X4            -0.0031      0.003     -1.012      0.312      -0.009       0.003\n",
      "X5             0.2744      0.131      2.088      0.037       0.017       0.532\n",
      "X6             5.3175      0.144     36.947      0.000       5.035       5.600\n",
      "==============================================================================\n",
      "Omnibus:                       23.370   Durbin-Watson:                   0.801\n",
      "Prob(Omnibus):                  0.000   Jarque-Bera (JB):               40.487\n",
      "Skew:                           0.016   Prob(JB):                     1.62e-09\n",
      "Kurtosis:                       3.744   Cond. No.                         559.\n",
      "==============================================================================\n",
      "\n",
      "Notes:\n",
      "[1] R² is computed without centering (uncentered) since the model does not contain a constant.\n",
      "[2] Standard Errors assume that the covariance matrix of the errors is correctly specified.\n"
     ]
    }
   ],
   "source": [
    "x_columns.remove(\"X3\")\n",
    "get_stats()"
   ]
  },
  {
   "cell_type": "code",
   "execution_count": 288,
   "id": "a5200a7c",
   "metadata": {},
   "outputs": [
    {
     "name": "stdout",
     "output_type": "stream",
     "text": [
      "                                 OLS Regression Results                                \n",
      "=======================================================================================\n",
      "Dep. Variable:                     Ev   R-squared (uncentered):                   0.984\n",
      "Model:                            OLS   Adj. R-squared (uncentered):              0.984\n",
      "Method:                 Least Squares   F-statistic:                          2.619e+04\n",
      "Date:                Sun, 18 Dec 2022   Prob (F-statistic):                        0.00\n",
      "Time:                        19:08:48   Log-Likelihood:                         -1712.9\n",
      "No. Observations:                1750   AIC:                                      3434.\n",
      "Df Residuals:                    1746   BIC:                                      3456.\n",
      "Df Model:                           4                                                  \n",
      "Covariance Type:            nonrobust                                                  \n",
      "==============================================================================\n",
      "                 coef    std err          t      P>|t|      [0.025      0.975]\n",
      "------------------------------------------------------------------------------\n",
      "X1             1.8836      0.040     47.052      0.000       1.805       1.962\n",
      "X2             0.0036      0.001      5.801      0.000       0.002       0.005\n",
      "X5             0.2236      0.121      1.841      0.066      -0.015       0.462\n",
      "X6             5.3155      0.144     36.936      0.000       5.033       5.598\n",
      "==============================================================================\n",
      "Omnibus:                       24.349   Durbin-Watson:                   0.800\n",
      "Prob(Omnibus):                  0.000   Jarque-Bera (JB):               42.846\n",
      "Skew:                           0.014   Prob(JB):                     4.97e-10\n",
      "Kurtosis:                       3.766   Cond. No.                         547.\n",
      "==============================================================================\n",
      "\n",
      "Notes:\n",
      "[1] R² is computed without centering (uncentered) since the model does not contain a constant.\n",
      "[2] Standard Errors assume that the covariance matrix of the errors is correctly specified.\n"
     ]
    }
   ],
   "source": [
    "x_columns.remove(\"X4\")\n",
    "get_stats()"
   ]
  },
  {
   "cell_type": "code",
   "execution_count": 289,
   "id": "af94bb2b",
   "metadata": {},
   "outputs": [
    {
     "name": "stdout",
     "output_type": "stream",
     "text": [
      "                                 OLS Regression Results                                \n",
      "=======================================================================================\n",
      "Dep. Variable:                     Ev   R-squared (uncentered):                   0.984\n",
      "Model:                            OLS   Adj. R-squared (uncentered):              0.984\n",
      "Method:                 Least Squares   F-statistic:                          3.488e+04\n",
      "Date:                Sun, 18 Dec 2022   Prob (F-statistic):                        0.00\n",
      "Time:                        19:08:48   Log-Likelihood:                         -1714.6\n",
      "No. Observations:                1750   AIC:                                      3435.\n",
      "Df Residuals:                    1747   BIC:                                      3452.\n",
      "Df Model:                           3                                                  \n",
      "Covariance Type:            nonrobust                                                  \n",
      "==============================================================================\n",
      "                 coef    std err          t      P>|t|      [0.025      0.975]\n",
      "------------------------------------------------------------------------------\n",
      "X1             1.9397      0.026     74.646      0.000       1.889       1.991\n",
      "X2             0.0027      0.000      7.334      0.000       0.002       0.003\n",
      "X6             5.4310      0.130     41.907      0.000       5.177       5.685\n",
      "==============================================================================\n",
      "Omnibus:                       24.769   Durbin-Watson:                   0.796\n",
      "Prob(Omnibus):                  0.000   Jarque-Bera (JB):               43.841\n",
      "Skew:                           0.015   Prob(JB):                     3.02e-10\n",
      "Kurtosis:                       3.775   Cond. No.                         447.\n",
      "==============================================================================\n",
      "\n",
      "Notes:\n",
      "[1] R² is computed without centering (uncentered) since the model does not contain a constant.\n",
      "[2] Standard Errors assume that the covariance matrix of the errors is correctly specified.\n"
     ]
    }
   ],
   "source": [
    "x_columns.remove(\"X5\")\n",
    "get_stats()"
   ]
  },
  {
   "cell_type": "code",
   "execution_count": 290,
   "id": "790169ef",
   "metadata": {},
   "outputs": [],
   "source": [
    "from sklearn.linear_model import LinearRegression"
   ]
  },
  {
   "cell_type": "code",
   "execution_count": 291,
   "id": "c4d619f7",
   "metadata": {},
   "outputs": [
    {
     "data": {
      "text/plain": [
       "['X1', 'X2', 'X6']"
      ]
     },
     "execution_count": 291,
     "metadata": {},
     "output_type": "execute_result"
    }
   ],
   "source": [
    "x_columns"
   ]
  },
  {
   "cell_type": "code",
   "execution_count": 292,
   "id": "74389085",
   "metadata": {},
   "outputs": [
    {
     "name": "stdout",
     "output_type": "stream",
     "text": [
      "[1.87415175e+00 1.77279874e-03 5.41718091e+00]\n"
     ]
    }
   ],
   "source": [
    "y_train = training_data[\"Ev\"]\n",
    "x_train = training_data[x_columns]\n",
    "y_test = testing_data[\"Ev\"]\n",
    "x_test = testing_data[x_columns]\n",
    "linear_model = LinearRegression()\n",
    "linear_model.fit(x_test,y_test)\n",
    "\n",
    "y_pred = linear_model.predict(x_test)\n",
    "\n",
    "# y_pred = ḷinear_model.predict(x)\n",
    "print(linear_model.coef_)\n"
   ]
  },
  {
   "cell_type": "code",
   "execution_count": 293,
   "id": "8b25bfc5",
   "metadata": {},
   "outputs": [
    {
     "name": "stdout",
     "output_type": "stream",
     "text": [
      "Mean absolute error = 0.5\n",
      "Mean squared error = 0.41\n",
      "Median absolute error = 0.4\n",
      "Explain variance score = 0.54\n",
      "R2 score = 0.54\n"
     ]
    }
   ],
   "source": [
    "import sklearn.metrics as sm\n",
    "print(\"Mean absolute error =\", round(sm.mean_absolute_error(y_test, y_pred), 2)) \n",
    "print(\"Mean squared error =\", round(sm.mean_squared_error(y_test, y_pred), 2)) \n",
    "print(\"Median absolute error =\", round(sm.median_absolute_error(y_test, y_pred), 2)) \n",
    "print(\"Explain variance score =\", round(sm.explained_variance_score(y_test, y_pred), 2)) \n",
    "print(\"R2 score =\", round(sm.r2_score(y_test, y_pred), 2))"
   ]
  },
  {
   "cell_type": "code",
   "execution_count": 294,
   "id": "b09c1817",
   "metadata": {},
   "outputs": [],
   "source": [
    "# https://towardsdatascience.com/stepwise-regression-tutorial-in-python-ebf7c782c922\n",
    "# #   "
   ]
  },
  {
   "cell_type": "code",
   "execution_count": null,
   "id": "dfad6b05",
   "metadata": {},
   "outputs": [],
   "source": []
  },
  {
   "cell_type": "code",
   "execution_count": 295,
   "id": "ffe83a99",
   "metadata": {},
   "outputs": [
    {
     "name": "stdout",
     "output_type": "stream",
     "text": [
      "[-1.08786442e-04  4.81354753e+00]\n"
     ]
    }
   ],
   "source": [
    "y_train = training_data[\"Ev\"]\n",
    "x_train = training_data[[\"X3\",\"X6\"]]\n",
    "y_test = testing_data[\"Ev\"]\n",
    "x_test = testing_data[[\"X3\",\"X6\"]]\n",
    "linear_model = LinearRegression()\n",
    "linear_model.fit(x_test,y_test)\n",
    "\n",
    "y_pred = linear_model.predict(x_test)\n",
    "\n",
    "# y_pred = ḷinear_model.predict(x)\n",
    "print(linear_model.coef_)\n"
   ]
  },
  {
   "cell_type": "code",
   "execution_count": 296,
   "id": "7fc02183",
   "metadata": {},
   "outputs": [
    {
     "name": "stdout",
     "output_type": "stream",
     "text": [
      "Mean absolute error = 0.58\n",
      "Mean squared error = 0.59\n",
      "Median absolute error = 0.45\n",
      "Explain variance score = 0.34\n",
      "R2 score = 0.34\n"
     ]
    }
   ],
   "source": [
    "import sklearn.metrics as sm\n",
    "print(\"Mean absolute error =\", round(sm.mean_absolute_error(y_test, y_pred), 2)) \n",
    "print(\"Mean squared error =\", round(sm.mean_squared_error(y_test, y_pred), 2)) \n",
    "print(\"Median absolute error =\", round(sm.median_absolute_error(y_test, y_pred), 2)) \n",
    "print(\"Explain variance score =\", round(sm.explained_variance_score(y_test, y_pred), 2)) \n",
    "print(\"R2 score =\", round(sm.r2_score(y_test, y_pred), 2))"
   ]
  },
  {
   "cell_type": "code",
   "execution_count": null,
   "id": "6a75bf82",
   "metadata": {},
   "outputs": [],
   "source": []
  },
  {
   "cell_type": "code",
   "execution_count": null,
   "id": "77957b49",
   "metadata": {},
   "outputs": [],
   "source": []
  },
  {
   "cell_type": "markdown",
   "id": "8e6c0cb7",
   "metadata": {},
   "source": [
    "## Robust linear"
   ]
  },
  {
   "cell_type": "code",
   "execution_count": 297,
   "id": "a2d5f80f",
   "metadata": {},
   "outputs": [],
   "source": [
    "import matplotlib.pyplot as plt"
   ]
  },
  {
   "cell_type": "code",
   "execution_count": 298,
   "id": "d8fa95e2",
   "metadata": {},
   "outputs": [],
   "source": [
    "ds = df"
   ]
  },
  {
   "cell_type": "code",
   "execution_count": 299,
   "id": "fbc98d3f",
   "metadata": {},
   "outputs": [],
   "source": [
    "x1 = ds[\"X1\"]\n",
    "x2 = ds[\"X2\"]\n",
    "x3 = ds[\"X3\"]\n",
    "x4 = ds[\"X4\"]\n",
    "x5 = ds[\"X5\"]\n",
    "x6 = ds[\"X6\"]\n",
    "y = ds[\"Ev\"]"
   ]
  },
  {
   "cell_type": "code",
   "execution_count": 300,
   "id": "da0abad2",
   "metadata": {},
   "outputs": [
    {
     "data": {
      "image/png": "[encoded data removed]",
      "text/plain": [
       "<Figure size 432x288 with 1 Axes>"
      ]
     },
     "metadata": {
      "needs_background": "light"
     },
     "output_type": "display_data"
    }
   ],
   "source": [
    "plt.plot(x1,y)\n",
    "plt.xlabel('X1')\n",
    "plt.ylabel('Ev')\n",
    "plt.title('X1 vs Ev graph')\n",
    "plt.show()"
   ]
  },
  {
   "cell_type": "code",
   "execution_count": 301,
   "id": "9322ad26",
   "metadata": {},
   "outputs": [
    {
     "data": {
      "image/png": "[encoded data removed]",
      "text/plain": [
       "<Figure size 432x288 with 1 Axes>"
      ]
     },
     "metadata": {
      "needs_background": "light"
     },
     "output_type": "display_data"
    }
   ],
   "source": [
    "plt.plot(x2,y)\n",
    "plt.xlabel('X2')\n",
    "plt.ylabel('Ev')\n",
    "plt.title('X2 vs Ev graph')\n",
    "plt.show()"
   ]
  },
  {
   "cell_type": "code",
   "execution_count": 302,
   "id": "b1ab7605",
   "metadata": {},
   "outputs": [
    {
     "data": {
      "image/png": "[encoded data removed]",
      "text/plain": [
       "<Figure size 432x288 with 1 Axes>"
      ]
     },
     "metadata": {
      "needs_background": "light"
     },
     "output_type": "display_data"
    }
   ],
   "source": [
    "plt.plot(x3,y)\n",
    "plt.xlabel('X3')\n",
    "plt.ylabel('Ev')\n",
    "plt.title('X3 vs Ev graph')\n",
    "plt.show()"
   ]
  },
  {
   "cell_type": "code",
   "execution_count": 303,
   "id": "8da28484",
   "metadata": {},
   "outputs": [
    {
     "data": {
      "image/png": "[encoded data removed]",
      "text/plain": [
       "<Figure size 432x288 with 1 Axes>"
      ]
     },
     "metadata": {
      "needs_background": "light"
     },
     "output_type": "display_data"
    }
   ],
   "source": [
    "plt.plot(x4,y)\n",
    "plt.xlabel('X4')\n",
    "plt.ylabel('Ev')\n",
    "plt.title('X4 vs Ev graph')\n",
    "plt.show()"
   ]
  },
  {
   "cell_type": "code",
   "execution_count": 304,
   "id": "31bd3984",
   "metadata": {},
   "outputs": [
    {
     "data": {
      "image/png": "[encoded data removed]",
      "text/plain": [
       "<Figure size 432x288 with 1 Axes>"
      ]
     },
     "metadata": {
      "needs_background": "light"
     },
     "output_type": "display_data"
    }
   ],
   "source": [
    "plt.plot(x5,y)\n",
    "plt.xlabel('X5')\n",
    "plt.ylabel('Ev')\n",
    "plt.title('X5 vs Ev graph')\n",
    "plt.show()"
   ]
  },
  {
   "cell_type": "code",
   "execution_count": 305,
   "id": "acb59940",
   "metadata": {},
   "outputs": [
    {
     "data": {
      "image/png": "[encoded data removed]",
      "text/plain": [
       "<Figure size 432x288 with 1 Axes>"
      ]
     },
     "metadata": {
      "needs_background": "light"
     },
     "output_type": "display_data"
    }
   ],
   "source": [
    "plt.plot(x6,y)\n",
    "plt.xlabel('X6')\n",
    "plt.ylabel('Ev')\n",
    "plt.title('X6 vs Ev graph')\n",
    "plt.show()"
   ]
  },
  {
   "cell_type": "code",
   "execution_count": 306,
   "id": "b1a5d6c9",
   "metadata": {},
   "outputs": [],
   "source": [
    "import seaborn as sns\n",
    "\n",
    "from sklearn.linear_model import (LinearRegression, HuberRegressor,\n",
    "                              \t  RANSACRegressor, TheilSenRegressor)"
   ]
  },
  {
   "cell_type": "markdown",
   "id": "a6a37ded",
   "metadata": {},
   "source": [
    "## Robust regression for X1 vs Y"
   ]
  },
  {
   "cell_type": "code",
   "execution_count": 307,
   "id": "d4850616",
   "metadata": {},
   "outputs": [],
   "source": [
    "coef_list = []"
   ]
  },
  {
   "cell_type": "code",
   "execution_count": 308,
   "id": "60012a00",
   "metadata": {},
   "outputs": [],
   "source": [
    "X1 = np.array(x1)\n",
    "X1 = X1.reshape(-1,1)\n",
    "Y = np.array(y)\n",
    "# Y = Y.reshape(-1,1)\n",
    "lr = LinearRegression().fit(X1, Y)\n",
    "\n",
    "coef_list.append([\"linear_regression\", lr.coef_[0]])"
   ]
  },
  {
   "cell_type": "code",
   "execution_count": 309,
   "id": "f95aa21f",
   "metadata": {},
   "outputs": [
    {
     "data": {
      "text/plain": [
       "[['linear_regression', 1.8901377839363276]]"
      ]
     },
     "execution_count": 309,
     "metadata": {},
     "output_type": "execute_result"
    }
   ],
   "source": [
    "coef_list"
   ]
  },
  {
   "cell_type": "code",
   "execution_count": null,
   "id": "c6395243",
   "metadata": {},
   "outputs": [],
   "source": []
  },
  {
   "cell_type": "code",
   "execution_count": 310,
   "id": "91b856c5",
   "metadata": {},
   "outputs": [
    {
     "data": {
      "text/plain": [
       "1"
      ]
     },
     "execution_count": 310,
     "metadata": {},
     "output_type": "execute_result"
    }
   ],
   "source": [
    "x1.ndim"
   ]
  },
  {
   "cell_type": "code",
   "execution_count": 311,
   "id": "8d6eb1d7",
   "metadata": {},
   "outputs": [],
   "source": [
    "plotline_X = np.arange(X1.min(), X1.max()).reshape(-1,1)\n",
    "\n",
    "fit_df = pd.DataFrame(\n",
    "    index = plotline_X.flatten(),\n",
    "    data={\"linear_regression\": lr.predict(plotline_X)}\n",
    ")"
   ]
  },
  {
   "cell_type": "code",
   "execution_count": 312,
   "id": "f250cfda",
   "metadata": {},
   "outputs": [
    {
     "data": {
      "image/png": "[encoded data removed]",
      "text/plain": [
       "<Figure size 432x288 with 1 Axes>"
      ]
     },
     "metadata": {
      "needs_background": "light"
     },
     "output_type": "display_data"
    }
   ],
   "source": [
    "fix, ax = plt.subplots()\n",
    "fit_df.plot(ax=ax)\n",
    "plt.scatter(X1, Y, c=\"k\")\n",
    "plt.title(\"Linear regression on data with outliers\");"
   ]
  },
  {
   "cell_type": "code",
   "execution_count": 313,
   "id": "c986caa4",
   "metadata": {},
   "outputs": [],
   "source": [
    "huber = HuberRegressor().fit(X1, Y)\n",
    "fit_df[\"huber_regression\"] = huber.predict(plotline_X)\n",
    "coef_list.append([\"huber_regression\", huber.coef_[0]])"
   ]
  },
  {
   "cell_type": "code",
   "execution_count": 314,
   "id": "6e944fcd",
   "metadata": {},
   "outputs": [],
   "source": [
    "ransac = RANSACRegressor(random_state=42).fit(X1, Y)\n",
    "fit_df[\"ransac_regression\"] = ransac.predict(plotline_X)\n",
    "ransac_coef = ransac.estimator_.coef_\n",
    "coef_list.append([\"ransac_regression\", ransac.estimator_.coef_[0]])"
   ]
  },
  {
   "cell_type": "code",
   "execution_count": 315,
   "id": "4d5fc49c",
   "metadata": {},
   "outputs": [
    {
     "name": "stdout",
     "output_type": "stream",
     "text": [
      "Total outliers: 842\n"
     ]
    }
   ],
   "source": [
    "inlier_mask = ransac.inlier_mask_\n",
    "outlier_mask = ~inlier_mask\n",
    "print(f\"Total outliers: {sum(outlier_mask)}\")\n"
   ]
  },
  {
   "cell_type": "code",
   "execution_count": 316,
   "id": "35118d69",
   "metadata": {},
   "outputs": [
    {
     "data": {
      "image/png": "[encoded data removed]",
      "text/plain": [
       "<Figure size 432x288 with 1 Axes>"
      ]
     },
     "metadata": {
      "needs_background": "light"
     },
     "output_type": "display_data"
    }
   ],
   "source": [
    "plt.scatter(X1[inlier_mask], Y[inlier_mask], color=\"blue\", label=\"Inliers\")\n",
    "plt.scatter(X1[outlier_mask], Y[outlier_mask], color=\"red\", label=\"Outliers\")\n",
    "plt.title(\"RANSAC - outliers vs inliers\");"
   ]
  },
  {
   "cell_type": "code",
   "execution_count": 317,
   "id": "823c3e87",
   "metadata": {},
   "outputs": [],
   "source": [
    "theilsen = TheilSenRegressor(random_state=42).fit(X1, Y)\n",
    "fit_df[\"theilsen_regression\"] = theilsen.predict(plotline_X)\n",
    "coef_list.append([\"theilsen_regression\", theilsen.coef_[0]])"
   ]
  },
  {
   "cell_type": "code",
   "execution_count": 318,
   "id": "87b5c9fb",
   "metadata": {},
   "outputs": [
    {
     "data": {
      "text/plain": [
       "[['linear_regression', 1.8901377839363276],\n",
       " ['huber_regression', 2.105950960688553],\n",
       " ['ransac_regression', 3.7043724218327876],\n",
       " ['theilsen_regression', 2.1604852200214575]]"
      ]
     },
     "execution_count": 318,
     "metadata": {},
     "output_type": "execute_result"
    }
   ],
   "source": [
    "coef_list"
   ]
  },
  {
   "cell_type": "code",
   "execution_count": 319,
   "id": "7290b89b",
   "metadata": {},
   "outputs": [
    {
     "name": "stdout",
     "output_type": "stream",
     "text": [
      "Mean absolute error = 0.73\n",
      "Mean squared error = 0.8\n",
      "Median absolute error = 0.68\n",
      "Explain variance score = 0.11\n",
      "R2 score = 0.11\n"
     ]
    }
   ],
   "source": [
    "y_train = training_data[\"Ev\"]\n",
    "x_train = training_data[\"X1\"]\n",
    "y_test = testing_data[\"Ev\"]\n",
    "x_test = testing_data[\"X1\"]\n",
    "theilsen = TheilSenRegressor(random_state=42).fit(X1, Y)\n",
    "\n",
    "x_test = np.array(x_test)\n",
    "x_test = x_test.reshape(-1,1)\n",
    "y_pred = theilsen.predict(x_test)\n",
    "\n",
    "\n",
    "\n",
    "import sklearn.metrics as sm\n",
    "print(\"Mean absolute error =\", round(sm.mean_absolute_error(y_test, y_pred), 2)) \n",
    "print(\"Mean squared error =\", round(sm.mean_squared_error(y_test, y_pred), 2)) \n",
    "print(\"Median absolute error =\", round(sm.median_absolute_error(y_test, y_pred), 2)) \n",
    "print(\"Explain variance score =\", round(sm.explained_variance_score(y_test, y_pred), 2)) \n",
    "print(\"R2 score =\", round(sm.r2_score(y_test, y_pred), 2))\n"
   ]
  },
  {
   "cell_type": "code",
   "execution_count": 320,
   "id": "bb2522cb",
   "metadata": {},
   "outputs": [
    {
     "name": "stdout",
     "output_type": "stream",
     "text": [
      "Mean absolute error = 0.84\n",
      "Mean squared error = 1.18\n",
      "Median absolute error = 0.63\n",
      "Explain variance score = -0.16\n",
      "R2 score = -0.33\n"
     ]
    }
   ],
   "source": [
    "y_train = training_data[\"Ev\"]\n",
    "x_train = training_data[\"X1\"]\n",
    "y_test = testing_data[\"Ev\"]\n",
    "x_test = testing_data[\"X1\"]\n",
    "ransac = RANSACRegressor(random_state=42).fit(X1, Y)\n",
    "x_test = np.array(x_test)\n",
    "x_test = x_test.reshape(-1,1)\n",
    "y_pred = ransac.predict(x_test)\n",
    "\n",
    "\n",
    "import sklearn.metrics as sm\n",
    "print(\"Mean absolute error =\", round(sm.mean_absolute_error(y_test, y_pred), 2)) \n",
    "print(\"Mean squared error =\", round(sm.mean_squared_error(y_test, y_pred), 2)) \n",
    "print(\"Median absolute error =\", round(sm.median_absolute_error(y_test, y_pred), 2)) \n",
    "print(\"Explain variance score =\", round(sm.explained_variance_score(y_test, y_pred), 2)) \n",
    "print(\"R2 score =\", round(sm.r2_score(y_test, y_pred), 2))\n"
   ]
  },
  {
   "cell_type": "code",
   "execution_count": 321,
   "id": "cbfcdff6",
   "metadata": {},
   "outputs": [
    {
     "name": "stdout",
     "output_type": "stream",
     "text": [
      "Mean absolute error = 0.73\n",
      "Mean squared error = 0.8\n",
      "Median absolute error = 0.7\n",
      "Explain variance score = 0.12\n",
      "R2 score = 0.1\n"
     ]
    }
   ],
   "source": [
    "y_train = training_data[\"Ev\"]\n",
    "x_train = training_data[\"X1\"]\n",
    "y_test = testing_data[\"Ev\"]\n",
    "x_test = testing_data[\"X1\"]\n",
    "huber = HuberRegressor().fit(X1, Y)\n",
    "x_test = np.array(x_test)\n",
    "x_test = x_test.reshape(-1,1)\n",
    "y_pred = huber.predict(x_test)\n",
    "\n",
    "\n",
    "\n",
    "\n",
    "import sklearn.metrics as sm\n",
    "print(\"Mean absolute error =\", round(sm.mean_absolute_error(y_test, y_pred), 2)) \n",
    "print(\"Mean squared error =\", round(sm.mean_squared_error(y_test, y_pred), 2)) \n",
    "print(\"Median absolute error =\", round(sm.median_absolute_error(y_test, y_pred), 2)) \n",
    "print(\"Explain variance score =\", round(sm.explained_variance_score(y_test, y_pred), 2)) \n",
    "print(\"R2 score =\", round(sm.r2_score(y_test, y_pred), 2))\n"
   ]
  },
  {
   "cell_type": "markdown",
   "id": "bbb402c4",
   "metadata": {},
   "source": [
    "## Robust regression for X3 vs Y"
   ]
  },
  {
   "cell_type": "code",
   "execution_count": 322,
   "id": "bb906560",
   "metadata": {},
   "outputs": [],
   "source": [
    "coef_list = []"
   ]
  },
  {
   "cell_type": "code",
   "execution_count": 323,
   "id": "4ac6313e",
   "metadata": {},
   "outputs": [],
   "source": [
    "X3 = np.array(x3)\n",
    "X3 = X3.reshape(-1,1)\n",
    "Y = np.array(y)\n",
    "# Y = Y.reshape(-1,1)\n",
    "lr = LinearRegression().fit(X3, Y)\n",
    "\n",
    "coef_list.append([\"linear_regression\", lr.coef_[0]])"
   ]
  },
  {
   "cell_type": "code",
   "execution_count": 324,
   "id": "d6d4edbd",
   "metadata": {},
   "outputs": [],
   "source": [
    "plotline_X = np.arange(X3.min(), X3.max()).reshape(-1,1)\n",
    "\n",
    "fit_df = pd.DataFrame(\n",
    "    index = plotline_X.flatten(),\n",
    "    data={\"linear_regression\": lr.predict(plotline_X)}\n",
    ")"
   ]
  },
  {
   "cell_type": "code",
   "execution_count": 325,
   "id": "806af902",
   "metadata": {},
   "outputs": [
    {
     "data": {
      "image/png": "[encoded data removed]",
      "text/plain": [
       "<Figure size 432x288 with 1 Axes>"
      ]
     },
     "metadata": {
      "needs_background": "light"
     },
     "output_type": "display_data"
    }
   ],
   "source": [
    "fix, ax = plt.subplots()\n",
    "fit_df.plot(ax=ax)\n",
    "plt.scatter(X3, Y, c=\"k\")\n",
    "plt.title(\"Linear regression on data with outliers\");"
   ]
  },
  {
   "cell_type": "code",
   "execution_count": 326,
   "id": "6f0d8a1d",
   "metadata": {},
   "outputs": [],
   "source": [
    "huber = HuberRegressor().fit(X3, Y)\n",
    "fit_df[\"huber_regression\"] = huber.predict(plotline_X)\n",
    "coef_list.append([\"huber_regression\", huber.coef_[0]])"
   ]
  },
  {
   "cell_type": "code",
   "execution_count": 327,
   "id": "3f30e174",
   "metadata": {},
   "outputs": [],
   "source": [
    "ransac = RANSACRegressor(random_state=42).fit(X3, Y)\n",
    "fit_df[\"ransac_regression\"] = ransac.predict(plotline_X)\n",
    "ransac_coef = ransac.estimator_.coef_\n",
    "coef_list.append([\"ransac_regression\", ransac.estimator_.coef_[0]])"
   ]
  },
  {
   "cell_type": "code",
   "execution_count": 328,
   "id": "5750e937",
   "metadata": {},
   "outputs": [
    {
     "name": "stdout",
     "output_type": "stream",
     "text": [
      "Total outliers: 881\n"
     ]
    }
   ],
   "source": [
    "inlier_mask = ransac.inlier_mask_\n",
    "outlier_mask = ~inlier_mask\n",
    "print(f\"Total outliers: {sum(outlier_mask)}\")\n"
   ]
  },
  {
   "cell_type": "code",
   "execution_count": 329,
   "id": "4a71eeba",
   "metadata": {},
   "outputs": [
    {
     "data": {
      "image/png": "[encoded data removed]",
      "text/plain": [
       "<Figure size 432x288 with 1 Axes>"
      ]
     },
     "metadata": {
      "needs_background": "light"
     },
     "output_type": "display_data"
    }
   ],
   "source": [
    "plt.scatter(X3[inlier_mask], Y[inlier_mask], color=\"blue\", label=\"Inliers\")\n",
    "plt.scatter(X3[outlier_mask], Y[outlier_mask], color=\"red\", label=\"Outliers\")\n",
    "plt.title(\"RANSAC - outliers vs inliers\");"
   ]
  },
  {
   "cell_type": "code",
   "execution_count": 330,
   "id": "359361a1",
   "metadata": {},
   "outputs": [],
   "source": [
    "theilsen = TheilSenRegressor(random_state=42).fit(X3, Y)\n",
    "fit_df[\"theilsen_regression\"] = theilsen.predict(plotline_X)\n",
    "coef_list.append([\"theilsen_regression\", theilsen.coef_[0]])"
   ]
  },
  {
   "cell_type": "code",
   "execution_count": 331,
   "id": "5d6abfd8",
   "metadata": {},
   "outputs": [
    {
     "data": {
      "text/plain": [
       "[['linear_regression', -0.0006635709875490117],\n",
       " ['huber_regression', -0.0008830592977474236],\n",
       " ['ransac_regression', -0.0006308004392566923],\n",
       " ['theilsen_regression', -0.0020722152489935177]]"
      ]
     },
     "execution_count": 331,
     "metadata": {},
     "output_type": "execute_result"
    }
   ],
   "source": [
    "coef_list"
   ]
  },
  {
   "cell_type": "code",
   "execution_count": 332,
   "id": "468b0f10",
   "metadata": {},
   "outputs": [
    {
     "name": "stdout",
     "output_type": "stream",
     "text": [
      "Mean absolute error = 0.79\n",
      "Mean squared error = 0.93\n",
      "Median absolute error = 0.72\n",
      "Explain variance score = -0.04\n",
      "R2 score = -0.04\n"
     ]
    }
   ],
   "source": [
    "y_train = training_data[\"Ev\"]\n",
    "x_train = training_data[\"X3\"]\n",
    "y_test = testing_data[\"Ev\"]\n",
    "x_test = testing_data[\"X3\"]\n",
    "theilsen = TheilSenRegressor(random_state=42).fit(X3, Y)\n",
    "\n",
    "x_test = np.array(x_test)\n",
    "x_test = x_test.reshape(-1,1)\n",
    "y_pred = theilsen.predict(x_test)\n",
    "\n",
    "\n",
    "\n",
    "import sklearn.metrics as sm\n",
    "print(\"Mean absolute error =\", round(sm.mean_absolute_error(y_test, y_pred), 2)) \n",
    "print(\"Mean squared error =\", round(sm.mean_squared_error(y_test, y_pred), 2)) \n",
    "print(\"Median absolute error =\", round(sm.median_absolute_error(y_test, y_pred), 2)) \n",
    "print(\"Explain variance score =\", round(sm.explained_variance_score(y_test, y_pred), 2)) \n",
    "print(\"R2 score =\", round(sm.r2_score(y_test, y_pred), 2))\n"
   ]
  },
  {
   "cell_type": "code",
   "execution_count": 333,
   "id": "cf3858b0",
   "metadata": {},
   "outputs": [
    {
     "name": "stdout",
     "output_type": "stream",
     "text": [
      "Mean absolute error = 0.79\n",
      "Mean squared error = 0.95\n",
      "Median absolute error = 0.66\n",
      "Explain variance score = 0.01\n",
      "R2 score = -0.07\n"
     ]
    }
   ],
   "source": [
    "y_train = training_data[\"Ev\"]\n",
    "x_train = training_data[\"X3\"]\n",
    "y_test = testing_data[\"Ev\"]\n",
    "x_test = testing_data[\"X3\"]\n",
    "ransac = RANSACRegressor(random_state=42).fit(X3, Y)\n",
    "x_test = np.array(x_test)\n",
    "x_test = x_test.reshape(-1,1)\n",
    "y_pred = ransac.predict(x_test)\n",
    "\n",
    "\n",
    "import sklearn.metrics as sm\n",
    "print(\"Mean absolute error =\", round(sm.mean_absolute_error(y_test, y_pred), 2)) \n",
    "print(\"Mean squared error =\", round(sm.mean_squared_error(y_test, y_pred), 2)) \n",
    "print(\"Median absolute error =\", round(sm.median_absolute_error(y_test, y_pred), 2)) \n",
    "print(\"Explain variance score =\", round(sm.explained_variance_score(y_test, y_pred), 2)) \n",
    "print(\"R2 score =\", round(sm.r2_score(y_test, y_pred), 2))\n"
   ]
  },
  {
   "cell_type": "code",
   "execution_count": 334,
   "id": "0c6e596c",
   "metadata": {},
   "outputs": [
    {
     "name": "stdout",
     "output_type": "stream",
     "text": [
      "Mean absolute error = 0.78\n",
      "Mean squared error = 0.88\n",
      "Median absolute error = 0.7\n",
      "Explain variance score = 0.01\n",
      "R2 score = 0.01\n"
     ]
    }
   ],
   "source": [
    "y_train = training_data[\"Ev\"]\n",
    "x_train = training_data[\"X3\"]\n",
    "y_test = testing_data[\"Ev\"]\n",
    "x_test = testing_data[\"X3\"]\n",
    "huber = HuberRegressor().fit(X3, Y)\n",
    "x_test = np.array(x_test)\n",
    "x_test = x_test.reshape(-1,1)\n",
    "y_pred = huber.predict(x_test)\n",
    "\n",
    "\n",
    "\n",
    "\n",
    "import sklearn.metrics as sm\n",
    "print(\"Mean absolute error =\", round(sm.mean_absolute_error(y_test, y_pred), 2)) \n",
    "print(\"Mean squared error =\", round(sm.mean_squared_error(y_test, y_pred), 2)) \n",
    "print(\"Median absolute error =\", round(sm.median_absolute_error(y_test, y_pred), 2)) \n",
    "print(\"Explain variance score =\", round(sm.explained_variance_score(y_test, y_pred), 2)) \n",
    "print(\"R2 score =\", round(sm.r2_score(y_test, y_pred), 2))\n"
   ]
  },
  {
   "cell_type": "markdown",
   "id": "1883ecb9",
   "metadata": {},
   "source": [
    "## Robust regression for X4 vs Y"
   ]
  },
  {
   "cell_type": "code",
   "execution_count": 335,
   "id": "9c294a30",
   "metadata": {},
   "outputs": [],
   "source": [
    "coef_list = []"
   ]
  },
  {
   "cell_type": "code",
   "execution_count": 336,
   "id": "2b5056cc",
   "metadata": {},
   "outputs": [],
   "source": [
    "X4 = np.array(x4)\n",
    "X4 = X4.reshape(-1,1)\n",
    "Y = np.array(y)\n",
    "# Y = Y.reshape(-1,1)\n",
    "lr = LinearRegression().fit(X4, Y)\n",
    "\n",
    "coef_list.append([\"linear_regression\", lr.coef_[0]])"
   ]
  },
  {
   "cell_type": "code",
   "execution_count": 337,
   "id": "3857ff64",
   "metadata": {},
   "outputs": [],
   "source": [
    "plotline_X = np.arange(X4.min(), X4.max()).reshape(-1,1)\n",
    "\n",
    "fit_df = pd.DataFrame(\n",
    "    index = plotline_X.flatten(),\n",
    "    data={\"linear_regression\": lr.predict(plotline_X)}\n",
    ")"
   ]
  },
  {
   "cell_type": "code",
   "execution_count": 338,
   "id": "76b572d2",
   "metadata": {},
   "outputs": [
    {
     "data": {
      "image/png": "[encoded data removed]",
      "text/plain": [
       "<Figure size 432x288 with 1 Axes>"
      ]
     },
     "metadata": {
      "needs_background": "light"
     },
     "output_type": "display_data"
    }
   ],
   "source": [
    "fix, ax = plt.subplots()\n",
    "fit_df.plot(ax=ax)\n",
    "plt.scatter(X4, Y, c=\"k\")\n",
    "plt.title(\"Linear regression on data with outliers\");"
   ]
  },
  {
   "cell_type": "code",
   "execution_count": 339,
   "id": "01ba87f0",
   "metadata": {},
   "outputs": [],
   "source": [
    "huber = HuberRegressor().fit(X4, Y)\n",
    "fit_df[\"huber_regression\"] = huber.predict(plotline_X)\n",
    "coef_list.append([\"huber_regression\", huber.coef_[0]])"
   ]
  },
  {
   "cell_type": "code",
   "execution_count": 340,
   "id": "07bcdd10",
   "metadata": {},
   "outputs": [],
   "source": [
    "ransac = RANSACRegressor(random_state=42).fit(X4, Y)\n",
    "fit_df[\"ransac_regression\"] = ransac.predict(plotline_X)\n",
    "ransac_coef = ransac.estimator_.coef_\n",
    "coef_list.append([\"ransac_regression\", ransac.estimator_.coef_[0]])"
   ]
  },
  {
   "cell_type": "code",
   "execution_count": 341,
   "id": "b7236e68",
   "metadata": {},
   "outputs": [
    {
     "name": "stdout",
     "output_type": "stream",
     "text": [
      "Total outliers: 888\n"
     ]
    }
   ],
   "source": [
    "inlier_mask = ransac.inlier_mask_\n",
    "outlier_mask = ~inlier_mask\n",
    "print(f\"Total outliers: {sum(outlier_mask)}\")\n"
   ]
  },
  {
   "cell_type": "code",
   "execution_count": 342,
   "id": "4fabfa8a",
   "metadata": {},
   "outputs": [
    {
     "data": {
      "image/png": "[encoded data removed]",
      "text/plain": [
       "<Figure size 432x288 with 1 Axes>"
      ]
     },
     "metadata": {
      "needs_background": "light"
     },
     "output_type": "display_data"
    }
   ],
   "source": [
    "plt.scatter(X4[inlier_mask], Y[inlier_mask], color=\"blue\", label=\"Inliers\")\n",
    "plt.scatter(X4[outlier_mask], Y[outlier_mask], color=\"red\", label=\"Outliers\")\n",
    "plt.title(\"RANSAC - outliers vs inliers\");"
   ]
  },
  {
   "cell_type": "code",
   "execution_count": 343,
   "id": "6bceaf95",
   "metadata": {},
   "outputs": [],
   "source": [
    "theilsen = TheilSenRegressor(random_state=42).fit(X4, Y)\n",
    "fit_df[\"theilsen_regression\"] = theilsen.predict(plotline_X)\n",
    "coef_list.append([\"theilsen_regression\", theilsen.coef_[0]])"
   ]
  },
  {
   "cell_type": "code",
   "execution_count": 344,
   "id": "300042a9",
   "metadata": {},
   "outputs": [
    {
     "data": {
      "text/plain": [
       "[['linear_regression', 0.018205291077267018],\n",
       " ['huber_regression', 0.018469794907428814],\n",
       " ['ransac_regression', -0.005618042639575837],\n",
       " ['theilsen_regression', 0.07513568911384166]]"
      ]
     },
     "execution_count": 344,
     "metadata": {},
     "output_type": "execute_result"
    }
   ],
   "source": [
    "coef_list"
   ]
  },
  {
   "cell_type": "code",
   "execution_count": 345,
   "id": "3b1e47b6",
   "metadata": {},
   "outputs": [
    {
     "name": "stdout",
     "output_type": "stream",
     "text": [
      "Mean absolute error = 0.83\n",
      "Mean squared error = 1.11\n",
      "Median absolute error = 0.72\n",
      "Explain variance score = -0.25\n",
      "R2 score = -0.25\n"
     ]
    }
   ],
   "source": [
    "y_train = training_data[\"Ev\"]\n",
    "x_train = training_data[\"X4\"]\n",
    "y_test = testing_data[\"Ev\"]\n",
    "x_test = testing_data[\"X4\"]\n",
    "theilsen = TheilSenRegressor(random_state=42).fit(X4, Y)\n",
    "\n",
    "x_test = np.array(x_test)\n",
    "x_test = x_test.reshape(-1,1)\n",
    "y_pred = theilsen.predict(x_test)\n",
    "\n",
    "\n",
    "\n",
    "import sklearn.metrics as sm\n",
    "print(\"Mean absolute error =\", round(sm.mean_absolute_error(y_test, y_pred), 2)) \n",
    "print(\"Mean squared error =\", round(sm.mean_squared_error(y_test, y_pred), 2)) \n",
    "print(\"Median absolute error =\", round(sm.median_absolute_error(y_test, y_pred), 2)) \n",
    "print(\"Explain variance score =\", round(sm.explained_variance_score(y_test, y_pred), 2)) \n",
    "print(\"R2 score =\", round(sm.r2_score(y_test, y_pred), 2))\n"
   ]
  },
  {
   "cell_type": "code",
   "execution_count": 346,
   "id": "667a01bc",
   "metadata": {},
   "outputs": [
    {
     "name": "stdout",
     "output_type": "stream",
     "text": [
      "Mean absolute error = 0.8\n",
      "Mean squared error = 0.98\n",
      "Median absolute error = 0.65\n",
      "Explain variance score = -0.01\n",
      "R2 score = -0.1\n"
     ]
    }
   ],
   "source": [
    "y_train = training_data[\"Ev\"]\n",
    "x_train = training_data[\"X4\"]\n",
    "y_test = testing_data[\"Ev\"]\n",
    "x_test = testing_data[\"X4\"]\n",
    "ransac = RANSACRegressor(random_state=42).fit(X4, Y)\n",
    "x_test = np.array(x_test)\n",
    "x_test = x_test.reshape(-1,1)\n",
    "y_pred = ransac.predict(x_test)\n",
    "\n",
    "\n",
    "import sklearn.metrics as sm\n",
    "print(\"Mean absolute error =\", round(sm.mean_absolute_error(y_test, y_pred), 2)) \n",
    "print(\"Mean squared error =\", round(sm.mean_squared_error(y_test, y_pred), 2)) \n",
    "print(\"Median absolute error =\", round(sm.median_absolute_error(y_test, y_pred), 2)) \n",
    "print(\"Explain variance score =\", round(sm.explained_variance_score(y_test, y_pred), 2)) \n",
    "print(\"R2 score =\", round(sm.r2_score(y_test, y_pred), 2))\n"
   ]
  },
  {
   "cell_type": "code",
   "execution_count": 347,
   "id": "7b731961",
   "metadata": {},
   "outputs": [
    {
     "name": "stdout",
     "output_type": "stream",
     "text": [
      "Mean absolute error = 0.78\n",
      "Mean squared error = 0.89\n",
      "Median absolute error = 0.69\n",
      "Explain variance score = 0.01\n",
      "R2 score = 0.0\n"
     ]
    }
   ],
   "source": [
    "y_train = training_data[\"Ev\"]\n",
    "x_train = training_data[\"X4\"]\n",
    "y_test = testing_data[\"Ev\"]\n",
    "x_test = testing_data[\"X4\"]\n",
    "huber = HuberRegressor().fit(X4, Y)\n",
    "x_test = np.array(x_test)\n",
    "x_test = x_test.reshape(-1,1)\n",
    "y_pred = huber.predict(x_test)\n",
    "\n",
    "\n",
    "\n",
    "\n",
    "import sklearn.metrics as sm\n",
    "print(\"Mean absolute error =\", round(sm.mean_absolute_error(y_test, y_pred), 2)) \n",
    "print(\"Mean squared error =\", round(sm.mean_squared_error(y_test, y_pred), 2)) \n",
    "print(\"Median absolute error =\", round(sm.median_absolute_error(y_test, y_pred), 2)) \n",
    "print(\"Explain variance score =\", round(sm.explained_variance_score(y_test, y_pred), 2)) \n",
    "print(\"R2 score =\", round(sm.r2_score(y_test, y_pred), 2))\n"
   ]
  },
  {
   "cell_type": "code",
   "execution_count": null,
   "id": "1293b476",
   "metadata": {},
   "outputs": [],
   "source": []
  },
  {
   "cell_type": "code",
   "execution_count": null,
   "id": "763efc4c",
   "metadata": {},
   "outputs": [],
   "source": []
  },
  {
   "cell_type": "markdown",
   "id": "532a4e2f",
   "metadata": {},
   "source": [
    "## Gradient Boosting Regressor"
   ]
  },
  {
   "cell_type": "code",
   "execution_count": 348,
   "id": "297c9ba4",
   "metadata": {},
   "outputs": [],
   "source": [
    "from sklearn.ensemble import GradientBoostingRegressor\n",
    "from sklearn.metrics import mean_squared_error\n",
    "from sklearn.metrics import mean_absolute_error"
   ]
  },
  {
   "cell_type": "code",
   "execution_count": 349,
   "id": "794f7e5c",
   "metadata": {},
   "outputs": [],
   "source": [
    "ds = df"
   ]
  },
  {
   "cell_type": "code",
   "execution_count": 350,
   "id": "13a92d18",
   "metadata": {},
   "outputs": [],
   "source": [
    "X = training_data[[\"X1\",\"X2\",\"X3\",\"X4\",\"X5\",\"X6\"]]\n",
    "Y = training_data[\"Ev\"]\n",
    "X_test = testing_data[[\"X1\",\"X2\",\"X3\",\"X4\",\"X5\",\"X6\"]]\n",
    "Y_test = testing_data[\"Ev\"]"
   ]
  },
  {
   "cell_type": "code",
   "execution_count": 351,
   "id": "1fa484fc",
   "metadata": {},
   "outputs": [
    {
     "data": {
      "text/plain": [
       "GradientBoostingRegressor(learning_rate=1.0, max_depth=2, n_estimators=3)"
      ]
     },
     "execution_count": 351,
     "metadata": {},
     "output_type": "execute_result"
    }
   ],
   "source": [
    "regressor = GradientBoostingRegressor(\n",
    "    max_depth=2,\n",
    "    n_estimators=3,\n",
    "    learning_rate=1.0\n",
    ")\n",
    "regressor.fit(X, Y)"
   ]
  },
  {
   "cell_type": "code",
   "execution_count": 352,
   "id": "2157849c",
   "metadata": {},
   "outputs": [],
   "source": [
    "errors = [mean_squared_error(Y_test, y_pred) for y_pred in regressor.staged_predict(X_test)]\n",
    "best_n_estimators = np.argmin(errors)"
   ]
  },
  {
   "cell_type": "code",
   "execution_count": 353,
   "id": "041efc31",
   "metadata": {},
   "outputs": [
    {
     "data": {
      "text/plain": [
       "GradientBoostingRegressor(learning_rate=1.0, max_depth=2, n_estimators=2)"
      ]
     },
     "execution_count": 353,
     "metadata": {},
     "output_type": "execute_result"
    }
   ],
   "source": [
    "best_regressor = GradientBoostingRegressor(\n",
    "    max_depth=2,\n",
    "    n_estimators=best_n_estimators,\n",
    "    learning_rate=1.0\n",
    ")\n",
    "best_regressor.fit(X,Y)"
   ]
  },
  {
   "cell_type": "code",
   "execution_count": 354,
   "id": "13548094",
   "metadata": {},
   "outputs": [
    {
     "name": "stdout",
     "output_type": "stream",
     "text": [
      "MSE:  0.48341308670753586\n",
      "MAE:  0.378708297972369\n",
      "Accuracy 0.574793009331511\n"
     ]
    }
   ],
   "source": [
    "y_pred = best_regressor.predict(X_test)\n",
    "print(\"MSE: \",mean_absolute_error(Y_test, y_pred))\n",
    "print(\"MAE: \",mean_squared_error(Y_test, y_pred))\n",
    "print(\"Accuracy\",best_regressor.score(X_test,Y_test))"
   ]
  },
  {
   "cell_type": "code",
   "execution_count": null,
   "id": "8b74b383",
   "metadata": {},
   "outputs": [],
   "source": []
  },
  {
   "cell_type": "code",
   "execution_count": null,
   "id": "91c5099b",
   "metadata": {},
   "outputs": [],
   "source": []
  },
  {
   "cell_type": "markdown",
   "id": "734e8244",
   "metadata": {},
   "source": [
    "## Linear SVM"
   ]
  },
  {
   "cell_type": "code",
   "execution_count": null,
   "id": "3335e814",
   "metadata": {},
   "outputs": [],
   "source": []
  },
  {
   "cell_type": "code",
   "execution_count": 355,
   "id": "cb379561",
   "metadata": {},
   "outputs": [],
   "source": [
    "ds = df"
   ]
  },
  {
   "cell_type": "code",
   "execution_count": 356,
   "id": "bf843549",
   "metadata": {},
   "outputs": [],
   "source": [
    "X = training_data[[\"X1\",\"X2\",\"X3\",\"X4\",\"X5\",\"X6\"]]\n",
    "Y = training_data[\"Ev\"]\n",
    "X_test = testing_data[[\"X1\",\"X2\",\"X3\",\"X4\",\"X5\",\"X6\"]]\n",
    "Y_test = testing_data[\"Ev\"]"
   ]
  },
  {
   "cell_type": "code",
   "execution_count": 357,
   "id": "0264a81b",
   "metadata": {},
   "outputs": [],
   "source": [
    "Y = np.array(Y)\n",
    "Y_test = np.array(Y_test)\n",
    "Y = Y.reshape(-1,1)\n",
    "Y_test = Y_test.reshape(-1,1)"
   ]
  },
  {
   "cell_type": "code",
   "execution_count": 358,
   "id": "43f32980",
   "metadata": {},
   "outputs": [],
   "source": [
    "from sklearn.preprocessing import StandardScaler\n",
    "sc_X = StandardScaler()\n",
    "sc_y = StandardScaler()\n",
    "X = sc_X.fit_transform(X)\n",
    "Y = sc_y.fit_transform(Y)\n",
    "X_test = sc_X.fit_transform(X_test)\n",
    "Y_test = sc_y.fit_transform(Y_test)"
   ]
  },
  {
   "cell_type": "code",
   "execution_count": 359,
   "id": "cf322e18",
   "metadata": {},
   "outputs": [
    {
     "name": "stderr",
     "output_type": "stream",
     "text": [
      "C:\\Users\\chugh\\anaconda3\\lib\\site-packages\\sklearn\\utils\\validation.py:63: DataConversionWarning: A column-vector y was passed when a 1d array was expected. Please change the shape of y to (n_samples, ), for example using ravel().\n",
      "  return f(*args, **kwargs)\n"
     ]
    },
    {
     "data": {
      "text/plain": [
       "SVR()"
      ]
     },
     "execution_count": 359,
     "metadata": {},
     "output_type": "execute_result"
    }
   ],
   "source": [
    "from sklearn.svm import SVR\n",
    "regressor = SVR(kernel = 'rbf')\n",
    "regressor.fit(X, Y)"
   ]
  },
  {
   "cell_type": "code",
   "execution_count": 360,
   "id": "7780c3aa",
   "metadata": {},
   "outputs": [],
   "source": [
    "y_pred = regressor.predict(X_test)\n",
    "# y_pred = sc_y.inverse_transform(y_pred) "
   ]
  },
  {
   "cell_type": "code",
   "execution_count": 361,
   "id": "e40c6ed0",
   "metadata": {
    "scrolled": true
   },
   "outputs": [
    {
     "data": {
      "text/plain": [
       "0.6968895440206088"
      ]
     },
     "execution_count": 361,
     "metadata": {},
     "output_type": "execute_result"
    }
   ],
   "source": [
    "from sklearn.metrics import accuracy_score\n",
    "regressor.score(X_test,Y_test)"
   ]
  },
  {
   "cell_type": "code",
   "execution_count": null,
   "id": "daf3e46e",
   "metadata": {},
   "outputs": [],
   "source": []
  },
  {
   "cell_type": "markdown",
   "id": "5e62e9c7",
   "metadata": {},
   "source": [
    "## Linear SVM with X1, X2, X6"
   ]
  },
  {
   "cell_type": "code",
   "execution_count": 362,
   "id": "14165a07",
   "metadata": {},
   "outputs": [],
   "source": [
    "X = training_data[[\"X1\",\"X2\",\"X6\"]]\n",
    "Y = training_data[\"Ev\"]\n",
    "X_test = testing_data[[\"X1\",\"X2\",\"X6\"]]\n",
    "Y_test = testing_data[\"Ev\"]"
   ]
  },
  {
   "cell_type": "code",
   "execution_count": 363,
   "id": "c28eae7a",
   "metadata": {},
   "outputs": [],
   "source": [
    "Y = np.array(Y)\n",
    "Y_test = np.array(Y_test)\n",
    "Y = Y.reshape(-1,1)\n",
    "Y_test = Y_test.reshape(-1,1)"
   ]
  },
  {
   "cell_type": "code",
   "execution_count": 364,
   "id": "6b22c5b8",
   "metadata": {},
   "outputs": [],
   "source": [
    "from sklearn.preprocessing import StandardScaler\n",
    "sc_X = StandardScaler()\n",
    "sc_y = StandardScaler()\n",
    "X = sc_X.fit_transform(X)\n",
    "Y = sc_y.fit_transform(Y)\n",
    "X_test = sc_X.fit_transform(X_test)\n",
    "Y_test = sc_y.fit_transform(Y_test)"
   ]
  },
  {
   "cell_type": "code",
   "execution_count": 365,
   "id": "81b27dc0",
   "metadata": {},
   "outputs": [
    {
     "name": "stderr",
     "output_type": "stream",
     "text": [
      "C:\\Users\\chugh\\anaconda3\\lib\\site-packages\\sklearn\\utils\\validation.py:63: DataConversionWarning: A column-vector y was passed when a 1d array was expected. Please change the shape of y to (n_samples, ), for example using ravel().\n",
      "  return f(*args, **kwargs)\n"
     ]
    },
    {
     "data": {
      "text/plain": [
       "SVR()"
      ]
     },
     "execution_count": 365,
     "metadata": {},
     "output_type": "execute_result"
    }
   ],
   "source": [
    "from sklearn.svm import SVR\n",
    "regressor = SVR(kernel = 'rbf')\n",
    "regressor.fit(X, Y)"
   ]
  },
  {
   "cell_type": "code",
   "execution_count": 366,
   "id": "9f78eadb",
   "metadata": {},
   "outputs": [],
   "source": [
    "y_pred = regressor.predict(X_test)\n",
    "# y_pred = sc_y.inverse_transform(y_pred) "
   ]
  },
  {
   "cell_type": "code",
   "execution_count": 367,
   "id": "09f1f573",
   "metadata": {},
   "outputs": [
    {
     "data": {
      "text/plain": [
       "0.6749014878912282"
      ]
     },
     "execution_count": 367,
     "metadata": {},
     "output_type": "execute_result"
    }
   ],
   "source": [
    "# from sklearn.metrics import accuracy_score\n",
    "regressor.score(X_test,Y_test)"
   ]
  },
  {
   "cell_type": "markdown",
   "id": "59a21569",
   "metadata": {},
   "source": []
  },
  {
   "cell_type": "code",
   "execution_count": null,
   "id": "aab8b6c9",
   "metadata": {},
   "outputs": [],
   "source": []
  },
  {
   "cell_type": "markdown",
   "id": "084b9a54",
   "metadata": {},
   "source": [
    "## Linear  ANN"
   ]
  },
  {
   "cell_type": "code",
   "execution_count": 368,
   "id": "0e3629c9",
   "metadata": {},
   "outputs": [],
   "source": [
    "import numpy as np\n",
    "import matplotlib.pyplot as plt\n",
    "import tensorflow as tf"
   ]
  },
  {
   "cell_type": "code",
   "execution_count": 390,
   "id": "a4adeb02",
   "metadata": {},
   "outputs": [],
   "source": [
    "observations=1750\n",
    "ds = df\n",
    "generated_inputs=np.column_stack([ds['X1'],ds['X2'],ds['X3'],ds['X4'],ds['X5'],ds['X6']])\n",
    "\n",
    "generated_target=ds[\"Ev\"]"
   ]
  },
  {
   "cell_type": "code",
   "execution_count": 393,
   "id": "177ffc40",
   "metadata": {},
   "outputs": [
    {
     "data": {
      "text/plain": [
       "array([[1.50000000e+00, 4.00000000e+00, 1.10000000e+02, 2.00000000e+00,\n",
       "        5.00000000e-01, 1.45454545e-01],\n",
       "       [1.80000000e+00, 5.00000000e+00, 5.00000000e+01, 3.00000000e+00,\n",
       "        6.00000000e-01, 4.80000000e-01],\n",
       "       [1.80000000e+00, 5.00000000e+00, 5.00000000e+01, 3.00000000e+00,\n",
       "        6.00000000e-01, 4.80000000e-01],\n",
       "       ...,\n",
       "       [1.50000000e+00, 9.10000000e+01, 2.84000000e+02, 1.50000000e+01,\n",
       "        1.64835165e-01, 4.22535211e-01],\n",
       "       [1.50000000e+00, 9.60000000e+01, 3.84000000e+02, 1.50000000e+01,\n",
       "        1.56250000e-01, 3.12500000e-01],\n",
       "       [1.70000000e+00, 8.50000000e+01, 1.74000000e+02, 7.00000000e+00,\n",
       "        8.23529410e-02, 3.21839080e-01]])"
      ]
     },
     "execution_count": 393,
     "metadata": {},
     "output_type": "execute_result"
    }
   ],
   "source": []
  },
  {
   "cell_type": "code",
   "execution_count": 391,
   "id": "32f81875",
   "metadata": {},
   "outputs": [],
   "source": [
    "np.savez('TF_intro',input=generated_inputs,targets=generated_target)\n",
    "training_data=np.load('TF_intro.npz')"
   ]
  },
  {
   "cell_type": "code",
   "execution_count": 394,
   "id": "861e6146",
   "metadata": {},
   "outputs": [
    {
     "name": "stdout",
     "output_type": "stream",
     "text": [
      "Epoch 1/100\n",
      "55/55 [==============================] - 0s 1ms/step - loss: nan  \n",
      "Epoch 2/100\n",
      "55/55 [==============================] - 0s 1ms/step - loss: nan\n",
      "Epoch 3/100\n",
      "55/55 [==============================] - 0s 1ms/step - loss: nan\n",
      "Epoch 4/100\n",
      "55/55 [==============================] - 0s 1ms/step - loss: nan\n",
      "Epoch 5/100\n",
      "55/55 [==============================] - 0s 1ms/step - loss: nan\n",
      "Epoch 6/100\n",
      "55/55 [==============================] - 0s 1ms/step - loss: nan\n",
      "Epoch 7/100\n",
      "55/55 [==============================] - 0s 1ms/step - loss: nan\n",
      "Epoch 8/100\n",
      "55/55 [==============================] - 0s 1ms/step - loss: nan\n",
      "Epoch 9/100\n",
      "55/55 [==============================] - 0s 2ms/step - loss: nan\n",
      "Epoch 10/100\n",
      "55/55 [==============================] - 0s 2ms/step - loss: nan\n",
      "Epoch 11/100\n",
      "55/55 [==============================] - 0s 1ms/step - loss: nan\n",
      "Epoch 12/100\n",
      "55/55 [==============================] - 0s 1ms/step - loss: nan\n",
      "Epoch 13/100\n",
      "55/55 [==============================] - 0s 1ms/step - loss: nan\n",
      "Epoch 14/100\n",
      "55/55 [==============================] - 0s 2ms/step - loss: nan\n",
      "Epoch 15/100\n",
      "55/55 [==============================] - 0s 2ms/step - loss: nan\n",
      "Epoch 16/100\n",
      "55/55 [==============================] - 0s 1ms/step - loss: nan\n",
      "Epoch 17/100\n",
      "55/55 [==============================] - 0s 2ms/step - loss: nan\n",
      "Epoch 18/100\n",
      "55/55 [==============================] - 0s 2ms/step - loss: nan\n",
      "Epoch 19/100\n",
      "55/55 [==============================] - 0s 1ms/step - loss: nan\n",
      "Epoch 20/100\n",
      "55/55 [==============================] - 0s 1ms/step - loss: nan\n",
      "Epoch 21/100\n",
      "55/55 [==============================] - 0s 1ms/step - loss: nan\n",
      "Epoch 22/100\n",
      "55/55 [==============================] - 0s 1ms/step - loss: nan\n",
      "Epoch 23/100\n",
      "55/55 [==============================] - 0s 1ms/step - loss: nan\n",
      "Epoch 24/100\n",
      "55/55 [==============================] - 0s 2ms/step - loss: nan\n",
      "Epoch 25/100\n",
      "55/55 [==============================] - 0s 1ms/step - loss: nan\n",
      "Epoch 26/100\n",
      "55/55 [==============================] - 0s 1ms/step - loss: nan\n",
      "Epoch 27/100\n",
      "55/55 [==============================] - 0s 1ms/step - loss: nan\n",
      "Epoch 28/100\n",
      "55/55 [==============================] - 0s 1ms/step - loss: nan\n",
      "Epoch 29/100\n",
      "55/55 [==============================] - 0s 1ms/step - loss: nan\n",
      "Epoch 30/100\n",
      "55/55 [==============================] - 0s 1ms/step - loss: nan\n",
      "Epoch 31/100\n",
      "55/55 [==============================] - 0s 2ms/step - loss: nan\n",
      "Epoch 32/100\n",
      "55/55 [==============================] - 0s 2ms/step - loss: nan\n",
      "Epoch 33/100\n",
      "55/55 [==============================] - 0s 1ms/step - loss: nan\n",
      "Epoch 34/100\n",
      "55/55 [==============================] - 0s 1ms/step - loss: nan\n",
      "Epoch 35/100\n",
      "55/55 [==============================] - 0s 1ms/step - loss: nan\n",
      "Epoch 36/100\n",
      "55/55 [==============================] - 0s 1ms/step - loss: nan\n",
      "Epoch 37/100\n",
      "55/55 [==============================] - 0s 1ms/step - loss: nan\n",
      "Epoch 38/100\n",
      "55/55 [==============================] - 0s 2ms/step - loss: nan\n",
      "Epoch 39/100\n",
      "55/55 [==============================] - 0s 1ms/step - loss: nan\n",
      "Epoch 40/100\n",
      "55/55 [==============================] - 0s 1ms/step - loss: nan\n",
      "Epoch 41/100\n",
      "55/55 [==============================] - 0s 1ms/step - loss: nan\n",
      "Epoch 42/100\n",
      "55/55 [==============================] - 0s 1ms/step - loss: nan\n",
      "Epoch 43/100\n",
      "55/55 [==============================] - 0s 1ms/step - loss: nan\n",
      "Epoch 44/100\n",
      "55/55 [==============================] - 0s 2ms/step - loss: nan\n",
      "Epoch 45/100\n",
      "55/55 [==============================] - 0s 2ms/step - loss: nan\n",
      "Epoch 46/100\n",
      "55/55 [==============================] - 0s 1ms/step - loss: nan\n",
      "Epoch 47/100\n",
      "55/55 [==============================] - 0s 1ms/step - loss: nan\n",
      "Epoch 48/100\n",
      "55/55 [==============================] - 0s 1ms/step - loss: nan\n",
      "Epoch 49/100\n",
      "55/55 [==============================] - 0s 1ms/step - loss: nan\n",
      "Epoch 50/100\n",
      "55/55 [==============================] - 0s 1ms/step - loss: nan\n",
      "Epoch 51/100\n",
      "55/55 [==============================] - 0s 1ms/step - loss: nan\n",
      "Epoch 52/100\n",
      "55/55 [==============================] - 0s 1ms/step - loss: nan\n",
      "Epoch 53/100\n",
      "55/55 [==============================] - 0s 1ms/step - loss: nan\n",
      "Epoch 54/100\n",
      "55/55 [==============================] - 0s 1ms/step - loss: nan\n",
      "Epoch 55/100\n",
      "55/55 [==============================] - 0s 1ms/step - loss: nan\n",
      "Epoch 56/100\n",
      "55/55 [==============================] - 0s 1ms/step - loss: nan\n",
      "Epoch 57/100\n",
      "55/55 [==============================] - 0s 1ms/step - loss: nan\n",
      "Epoch 58/100\n",
      "55/55 [==============================] - 0s 1ms/step - loss: nan\n",
      "Epoch 59/100\n",
      "55/55 [==============================] - 0s 2ms/step - loss: nan\n",
      "Epoch 60/100\n",
      "55/55 [==============================] - 0s 1ms/step - loss: nan\n",
      "Epoch 61/100\n",
      "55/55 [==============================] - 0s 1ms/step - loss: nan\n",
      "Epoch 62/100\n",
      "55/55 [==============================] - 0s 1ms/step - loss: nan\n",
      "Epoch 63/100\n",
      "55/55 [==============================] - 0s 1ms/step - loss: nan\n",
      "Epoch 64/100\n",
      "55/55 [==============================] - 0s 1ms/step - loss: nan\n",
      "Epoch 65/100\n",
      "55/55 [==============================] - 0s 1ms/step - loss: nan\n",
      "Epoch 66/100\n",
      "55/55 [==============================] - 0s 1ms/step - loss: nan\n",
      "Epoch 67/100\n",
      "55/55 [==============================] - 0s 1ms/step - loss: nan\n",
      "Epoch 68/100\n",
      "55/55 [==============================] - 0s 1ms/step - loss: nan\n",
      "Epoch 69/100\n",
      "55/55 [==============================] - 0s 1ms/step - loss: nan\n",
      "Epoch 70/100\n",
      "55/55 [==============================] - 0s 1ms/step - loss: nan\n",
      "Epoch 71/100\n",
      "55/55 [==============================] - 0s 1ms/step - loss: nan\n",
      "Epoch 72/100\n",
      "55/55 [==============================] - 0s 1ms/step - loss: nan\n",
      "Epoch 73/100\n",
      "55/55 [==============================] - 0s 2ms/step - loss: nan\n",
      "Epoch 74/100\n",
      "55/55 [==============================] - 0s 1ms/step - loss: nan\n",
      "Epoch 75/100\n",
      "55/55 [==============================] - 0s 1ms/step - loss: nan\n",
      "Epoch 76/100\n",
      "55/55 [==============================] - 0s 2ms/step - loss: nan\n",
      "Epoch 77/100\n",
      "55/55 [==============================] - 0s 1ms/step - loss: nan\n",
      "Epoch 78/100\n",
      "55/55 [==============================] - 0s 2ms/step - loss: nan\n",
      "Epoch 79/100\n",
      "55/55 [==============================] - 0s 2ms/step - loss: nan\n",
      "Epoch 80/100\n",
      "55/55 [==============================] - 0s 2ms/step - loss: nan\n",
      "Epoch 81/100\n",
      "55/55 [==============================] - 0s 1ms/step - loss: nan\n",
      "Epoch 82/100\n",
      "55/55 [==============================] - 0s 1ms/step - loss: nan\n",
      "Epoch 83/100\n",
      "55/55 [==============================] - 0s 1ms/step - loss: nan\n",
      "Epoch 84/100\n",
      "55/55 [==============================] - 0s 1ms/step - loss: nan\n",
      "Epoch 85/100\n",
      "55/55 [==============================] - 0s 1ms/step - loss: nan\n",
      "Epoch 86/100\n",
      "55/55 [==============================] - 0s 1ms/step - loss: nan\n",
      "Epoch 87/100\n",
      "55/55 [==============================] - 0s 2ms/step - loss: nan\n",
      "Epoch 88/100\n",
      "55/55 [==============================] - 0s 1ms/step - loss: nan\n",
      "Epoch 89/100\n",
      "55/55 [==============================] - 0s 1ms/step - loss: nan\n",
      "Epoch 90/100\n",
      "55/55 [==============================] - 0s 1ms/step - loss: nan\n",
      "Epoch 91/100\n",
      "55/55 [==============================] - 0s 1ms/step - loss: nan\n",
      "Epoch 92/100\n",
      "55/55 [==============================] - 0s 1ms/step - loss: nan\n",
      "Epoch 93/100\n",
      "55/55 [==============================] - 0s 1ms/step - loss: nan\n",
      "Epoch 94/100\n",
      "55/55 [==============================] - 0s 1ms/step - loss: nan\n",
      "Epoch 95/100\n",
      "55/55 [==============================] - 0s 1ms/step - loss: nan\n",
      "Epoch 96/100\n",
      "55/55 [==============================] - 0s 1ms/step - loss: nan\n",
      "Epoch 97/100\n",
      "55/55 [==============================] - 0s 1ms/step - loss: nan\n",
      "Epoch 98/100\n",
      "55/55 [==============================] - 0s 1ms/step - loss: nan\n",
      "Epoch 99/100\n",
      "55/55 [==============================] - 0s 1ms/step - loss: nan\n",
      "Epoch 100/100\n",
      "55/55 [==============================] - 0s 1ms/step - loss: nan\n"
     ]
    },
    {
     "data": {
      "text/plain": [
       "<keras.callbacks.History at 0x28b4f0b9310>"
      ]
     },
     "execution_count": 394,
     "metadata": {},
     "output_type": "execute_result"
    }
   ],
   "source": [
    "input_size=6\n",
    "output_size=1\n",
    "models = tf.keras.Sequential([\n",
    "                             tf.keras.layers.Dense(output_size)\n",
    "                            ])\n",
    "custom_optimizer=tf.keras.optimizers.SGD(learning_rate=0.02)\n",
    "models.compile(optimizer=custom_optimizer,loss='mean_squared_error')\n",
    "models.fit(training_data['input'],training_data['targets'],epochs=100,verbose=1)"
   ]
  },
  {
   "cell_type": "code",
   "execution_count": 395,
   "id": "62b55d0c",
   "metadata": {},
   "outputs": [
    {
     "data": {
      "text/plain": [
       "[array([[nan],\n",
       "        [nan],\n",
       "        [nan],\n",
       "        [nan],\n",
       "        [nan],\n",
       "        [nan]], dtype=float32),\n",
       " array([nan], dtype=float32)]"
      ]
     },
     "execution_count": 395,
     "metadata": {},
     "output_type": "execute_result"
    }
   ],
   "source": [
    "models.layers[0].get_weights()\n"
   ]
  },
  {
   "cell_type": "code",
   "execution_count": 396,
   "id": "e1c4c7d1",
   "metadata": {},
   "outputs": [],
   "source": [
    "weights=models.layers[0].get_weights()[0]\n",
    "bias=models.layers[0].get_weights()[1]"
   ]
  },
  {
   "cell_type": "code",
   "execution_count": 397,
   "id": "2f8cddaa",
   "metadata": {},
   "outputs": [
    {
     "data": {
      "text/plain": [
       "0.0"
      ]
     },
     "execution_count": 397,
     "metadata": {},
     "output_type": "execute_result"
    }
   ],
   "source": [
    "out=training_data['targets'].round(1)\n",
    "from sklearn.metrics import mean_squared_error\n",
    "mean_squared_error(generated_target, out, squared=False)"
   ]
  },
  {
   "cell_type": "code",
   "execution_count": 398,
   "id": "04b40df2",
   "metadata": {},
   "outputs": [
    {
     "data": {
      "image/png": "[encoded data removed]",
      "text/plain": [
       "<Figure size 432x288 with 1 Axes>"
      ]
     },
     "metadata": {
      "needs_background": "light"
     },
     "output_type": "display_data"
    }
   ],
   "source": [
    "plt.scatter(np.squeeze(models.predict_on_batch(training_data['input'])),np.squeeze(training_data['targets']),c='#88c999')\n",
    "plt.xlabel('Input')\n",
    "plt.ylabel('Predicted Output')\n",
    "plt.show()"
   ]
  },
  {
   "cell_type": "code",
   "execution_count": null,
   "id": "c50f8d16",
   "metadata": {},
   "outputs": [],
   "source": []
  },
  {
   "cell_type": "code",
   "execution_count": null,
   "id": "fff0a1cd",
   "metadata": {},
   "outputs": [],
   "source": []
  },
  {
   "cell_type": "code",
   "execution_count": 381,
   "id": "cd83da6c",
   "metadata": {},
   "outputs": [],
   "source": [
    "observations=1000\n",
    "xs=np.random.uniform(-10,10,(observations,1))\n",
    "zs=np.random.uniform(-10,10,(observations,1))\n",
    "generated_inputs=np.column_stack((xs,zs))\n",
    "noise=np.random.uniform(-10,10,(observations,1))\n",
    "generated_target=2*xs-3*zs+5+noise"
   ]
  },
  {
   "cell_type": "code",
   "execution_count": 384,
   "id": "aaab3023",
   "metadata": {},
   "outputs": [],
   "source": [
    "np.savez('TF_intro',input=generated_inputs,targets=generated_target)\n",
    "training_data=np.load('TF_intro.npz')"
   ]
  },
  {
   "cell_type": "code",
   "execution_count": 389,
   "id": "46148022",
   "metadata": {},
   "outputs": [
    {
     "data": {
      "text/plain": [
       "array([[ 6.01568773, -4.89998132],\n",
       "       [ 1.11628388, -6.66774796],\n",
       "       [-5.15325252,  4.17310225],\n",
       "       ...,\n",
       "       [-2.38861309,  3.49200824],\n",
       "       [ 8.48439818,  9.89502596],\n",
       "       [ 1.89427252,  2.50244743]])"
      ]
     },
     "execution_count": 389,
     "metadata": {},
     "output_type": "execute_result"
    }
   ],
   "source": [
    "generated_inputs"
   ]
  },
  {
   "cell_type": "code",
   "execution_count": null,
   "id": "9e54a802",
   "metadata": {},
   "outputs": [],
   "source": []
  },
  {
   "cell_type": "code",
   "execution_count": null,
   "id": "90308f54",
   "metadata": {},
   "outputs": [],
   "source": []
  },
  {
   "cell_type": "code",
   "execution_count": null,
   "id": "300dbebf",
   "metadata": {},
   "outputs": [],
   "source": []
  },
  {
   "cell_type": "code",
   "execution_count": null,
   "id": "2da50930",
   "metadata": {},
   "outputs": [],
   "source": []
  },
  {
   "cell_type": "code",
   "execution_count": null,
   "id": "d0239d16",
   "metadata": {},
   "outputs": [],
   "source": []
  },
  {
   "cell_type": "code",
   "execution_count": null,
   "id": "8ca5315f",
   "metadata": {},
   "outputs": [],
   "source": []
  },
  {
   "cell_type": "code",
   "execution_count": null,
   "id": "2dc2573a",
   "metadata": {},
   "outputs": [],
   "source": []
  },
  {
   "cell_type": "code",
   "execution_count": null,
   "id": "b8f36a46",
   "metadata": {},
   "outputs": [],
   "source": []
  },
  {
   "cell_type": "code",
   "execution_count": null,
   "id": "19a4f960",
   "metadata": {},
   "outputs": [],
   "source": []
  },
  {
   "cell_type": "code",
   "execution_count": null,
   "id": "fee0a37d",
   "metadata": {},
   "outputs": [],
   "source": []
  },
  {
   "cell_type": "code",
   "execution_count": null,
   "id": "4865dbd4",
   "metadata": {},
   "outputs": [],
   "source": []
  },
  {
   "cell_type": "code",
   "execution_count": null,
   "id": "3cd097f8",
   "metadata": {},
   "outputs": [],
   "source": []
  }
 ],
 "metadata": {
  "kernelspec": {
   "display_name": "Python 3",
   "language": "python",
   "name": "python3"
  },
  "language_info": {
   "codemirror_mode": {
    "name": "ipython",
    "version": 3
   },
   "file_extension": ".py",
   "mimetype": "text/x-python",
   "name": "python",
   "nbconvert_exporter": "python",
   "pygments_lexer": "ipython3",
   "version": "3.8.8"
  }
 },
 "nbformat": 4,
 "nbformat_minor": 5
}
